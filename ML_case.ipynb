{
 "cells": [
  {
   "cell_type": "code",
   "execution_count": 57,
   "metadata": {
    "collapsed": true,
    "pycharm": {
     "name": "#%%\n"
    }
   },
   "outputs": [],
   "source": [
    "import numpy as np\n",
    "import pandas as pd\n",
    "import seaborn as sns\n",
    "import matplotlib.pyplot as plt\n",
    "\n",
    "from lightgbm import LGBMRegressor\n",
    "from  xgboost import XGBRegressor\n",
    "from sklearn.preprocessing import LabelEncoder\n",
    "from sklearn.ensemble import GradientBoostingRegressor, RandomForestRegressor\n",
    "from sklearn.model_selection import train_test_split, GridSearchCV, RepeatedKFold, cross_val_score, RandomizedSearchCV\n",
    "from skopt import BayesSearchCV\n",
    "from skopt.space import Real, Categorical, Integer"
   ]
  },
  {
   "cell_type": "code",
   "execution_count": 78,
   "outputs": [],
   "source": [
    "df_train = pd.read_csv('data_train.csv')\n",
    "df_prom = pd.read_csv('data_prom.csv')\n",
    "df_train.drop(['id'], inplace=True, axis=1)\n",
    "df_prom.drop(['id'], inplace=True, axis=1)\n",
    "df_all = pd.concat((df_train, df_prom)).reset_index(drop=True)\n",
    "len_train = len(df_train)"
   ],
   "metadata": {
    "collapsed": false,
    "pycharm": {
     "name": "#%%\n"
    }
   }
  },
  {
   "cell_type": "code",
   "execution_count": 79,
   "outputs": [],
   "source": [
    "for col in df_train.columns:\n",
    "    df_all[col] = np.where((df_all[col] == '?'), np.nan, df_all[col])"
   ],
   "metadata": {
    "collapsed": false,
    "pycharm": {
     "name": "#%%\n"
    }
   }
  },
  {
   "cell_type": "code",
   "execution_count": 80,
   "outputs": [
    {
     "data": {
      "text/plain": "   active  reassignment_count  reopen_count  sys_mod_count  made_sla  \\\n0     1.0                 0.0           0.0            0.0       1.0   \n1     1.0                 0.0           0.0            0.0       1.0   \n2     1.0                 0.0           0.0            4.0       1.0   \n3     1.0                 0.0           0.0            0.0       1.0   \n4     1.0                 1.0           0.0            5.0       1.0   \n\n     caller_id       opened_by        opened_at  sys_created_by  \\\n0  Caller 2403    Opened by  8  29/2/2016 01:16    Created by 6   \n1  Caller 2403  Opened by  397  29/2/2016 04:40  Created by 171   \n2  Caller 4416    Opened by  8  29/2/2016 06:10             NaN   \n3  Caller 4491  Opened by  180  29/2/2016 06:38   Created by 81   \n4  Caller 3765  Opened by  180  29/2/2016 06:58   Created by 81   \n\n    sys_created_at  ...   assigned_to knowledge u_priority_confirmation  \\\n0  29/2/2016 01:23  ...           NaN       1.0                     0.0   \n1  29/2/2016 04:57  ...   Resolver 89       1.0                     0.0   \n2              NaN  ...           NaN       1.0                     0.0   \n3  29/2/2016 06:42  ...  Resolver 125       1.0                     0.0   \n4  29/2/2016 07:26  ...           NaN       1.0                     0.0   \n\n          notify     problem_id  rfc vendor caused_by      resolved_by target  \n0  Do Not Notify            NaN  NaN    NaN       NaN  Resolved by 149  130.0  \n1  Do Not Notify            NaN  NaN    NaN       NaN   Resolved by 81  149.0  \n2  Do Not Notify  Problem ID  2  NaN    NaN       NaN    Resolved by 5  140.0  \n3  Do Not Notify            NaN  NaN    NaN       NaN  Resolved by 113  174.0  \n4  Do Not Notify            NaN  NaN    NaN       NaN   Resolved by 62  129.0  \n\n[5 rows x 32 columns]",
      "text/html": "<div>\n<style scoped>\n    .dataframe tbody tr th:only-of-type {\n        vertical-align: middle;\n    }\n\n    .dataframe tbody tr th {\n        vertical-align: top;\n    }\n\n    .dataframe thead th {\n        text-align: right;\n    }\n</style>\n<table border=\"1\" class=\"dataframe\">\n  <thead>\n    <tr style=\"text-align: right;\">\n      <th></th>\n      <th>active</th>\n      <th>reassignment_count</th>\n      <th>reopen_count</th>\n      <th>sys_mod_count</th>\n      <th>made_sla</th>\n      <th>caller_id</th>\n      <th>opened_by</th>\n      <th>opened_at</th>\n      <th>sys_created_by</th>\n      <th>sys_created_at</th>\n      <th>...</th>\n      <th>assigned_to</th>\n      <th>knowledge</th>\n      <th>u_priority_confirmation</th>\n      <th>notify</th>\n      <th>problem_id</th>\n      <th>rfc</th>\n      <th>vendor</th>\n      <th>caused_by</th>\n      <th>resolved_by</th>\n      <th>target</th>\n    </tr>\n  </thead>\n  <tbody>\n    <tr>\n      <th>0</th>\n      <td>1.0</td>\n      <td>0.0</td>\n      <td>0.0</td>\n      <td>0.0</td>\n      <td>1.0</td>\n      <td>Caller 2403</td>\n      <td>Opened by  8</td>\n      <td>29/2/2016 01:16</td>\n      <td>Created by 6</td>\n      <td>29/2/2016 01:23</td>\n      <td>...</td>\n      <td>NaN</td>\n      <td>1.0</td>\n      <td>0.0</td>\n      <td>Do Not Notify</td>\n      <td>NaN</td>\n      <td>NaN</td>\n      <td>NaN</td>\n      <td>NaN</td>\n      <td>Resolved by 149</td>\n      <td>130.0</td>\n    </tr>\n    <tr>\n      <th>1</th>\n      <td>1.0</td>\n      <td>0.0</td>\n      <td>0.0</td>\n      <td>0.0</td>\n      <td>1.0</td>\n      <td>Caller 2403</td>\n      <td>Opened by  397</td>\n      <td>29/2/2016 04:40</td>\n      <td>Created by 171</td>\n      <td>29/2/2016 04:57</td>\n      <td>...</td>\n      <td>Resolver 89</td>\n      <td>1.0</td>\n      <td>0.0</td>\n      <td>Do Not Notify</td>\n      <td>NaN</td>\n      <td>NaN</td>\n      <td>NaN</td>\n      <td>NaN</td>\n      <td>Resolved by 81</td>\n      <td>149.0</td>\n    </tr>\n    <tr>\n      <th>2</th>\n      <td>1.0</td>\n      <td>0.0</td>\n      <td>0.0</td>\n      <td>4.0</td>\n      <td>1.0</td>\n      <td>Caller 4416</td>\n      <td>Opened by  8</td>\n      <td>29/2/2016 06:10</td>\n      <td>NaN</td>\n      <td>NaN</td>\n      <td>...</td>\n      <td>NaN</td>\n      <td>1.0</td>\n      <td>0.0</td>\n      <td>Do Not Notify</td>\n      <td>Problem ID  2</td>\n      <td>NaN</td>\n      <td>NaN</td>\n      <td>NaN</td>\n      <td>Resolved by 5</td>\n      <td>140.0</td>\n    </tr>\n    <tr>\n      <th>3</th>\n      <td>1.0</td>\n      <td>0.0</td>\n      <td>0.0</td>\n      <td>0.0</td>\n      <td>1.0</td>\n      <td>Caller 4491</td>\n      <td>Opened by  180</td>\n      <td>29/2/2016 06:38</td>\n      <td>Created by 81</td>\n      <td>29/2/2016 06:42</td>\n      <td>...</td>\n      <td>Resolver 125</td>\n      <td>1.0</td>\n      <td>0.0</td>\n      <td>Do Not Notify</td>\n      <td>NaN</td>\n      <td>NaN</td>\n      <td>NaN</td>\n      <td>NaN</td>\n      <td>Resolved by 113</td>\n      <td>174.0</td>\n    </tr>\n    <tr>\n      <th>4</th>\n      <td>1.0</td>\n      <td>1.0</td>\n      <td>0.0</td>\n      <td>5.0</td>\n      <td>1.0</td>\n      <td>Caller 3765</td>\n      <td>Opened by  180</td>\n      <td>29/2/2016 06:58</td>\n      <td>Created by 81</td>\n      <td>29/2/2016 07:26</td>\n      <td>...</td>\n      <td>NaN</td>\n      <td>1.0</td>\n      <td>0.0</td>\n      <td>Do Not Notify</td>\n      <td>NaN</td>\n      <td>NaN</td>\n      <td>NaN</td>\n      <td>NaN</td>\n      <td>Resolved by 62</td>\n      <td>129.0</td>\n    </tr>\n  </tbody>\n</table>\n<p>5 rows × 32 columns</p>\n</div>"
     },
     "execution_count": 80,
     "metadata": {},
     "output_type": "execute_result"
    }
   ],
   "source": [
    "df_all.head(5)"
   ],
   "metadata": {
    "collapsed": false,
    "pycharm": {
     "name": "#%%\n"
    }
   }
  },
  {
   "cell_type": "code",
   "execution_count": 81,
   "outputs": [
    {
     "name": "stdout",
     "output_type": "stream",
     "text": [
      "<class 'pandas.core.frame.DataFrame'>\n",
      "RangeIndex: 16137 entries, 0 to 16136\n",
      "Data columns (total 32 columns):\n",
      " #   Column                   Non-Null Count  Dtype  \n",
      "---  ------                   --------------  -----  \n",
      " 0   active                   16137 non-null  float64\n",
      " 1   reassignment_count       16137 non-null  float64\n",
      " 2   reopen_count             16137 non-null  float64\n",
      " 3   sys_mod_count            16137 non-null  float64\n",
      " 4   made_sla                 16137 non-null  float64\n",
      " 5   caller_id                16135 non-null  object \n",
      " 6   opened_by                15612 non-null  object \n",
      " 7   opened_at                16137 non-null  object \n",
      " 8   sys_created_by           9783 non-null   object \n",
      " 9   sys_created_at           9783 non-null   object \n",
      " 10  sys_updated_by           16137 non-null  object \n",
      " 11  sys_updated_at           16137 non-null  object \n",
      " 12  contact_type             16137 non-null  object \n",
      " 13  location                 16091 non-null  object \n",
      " 14  category                 16118 non-null  object \n",
      " 15  subcategory              16088 non-null  object \n",
      " 16  u_symptom                12349 non-null  object \n",
      " 17  cmdb_ci                  37 non-null     object \n",
      " 18  impact                   16137 non-null  object \n",
      " 19  urgency                  16137 non-null  object \n",
      " 20  priority                 16137 non-null  object \n",
      " 21  assignment_group         14637 non-null  object \n",
      " 22  assigned_to              9489 non-null   object \n",
      " 23  knowledge                16137 non-null  float64\n",
      " 24  u_priority_confirmation  16137 non-null  float64\n",
      " 25  notify                   16137 non-null  object \n",
      " 26  problem_id               168 non-null    object \n",
      " 27  rfc                      54 non-null     object \n",
      " 28  vendor                   13 non-null     object \n",
      " 29  caused_by                2 non-null      object \n",
      " 30  resolved_by              16129 non-null  object \n",
      " 31  target                   10572 non-null  float64\n",
      "dtypes: float64(8), object(24)\n",
      "memory usage: 3.9+ MB\n"
     ]
    }
   ],
   "source": [
    "df_all.info()"
   ],
   "metadata": {
    "collapsed": false,
    "pycharm": {
     "name": "#%%\n"
    }
   }
  },
  {
   "cell_type": "code",
   "execution_count": 82,
   "outputs": [
    {
     "data": {
      "text/plain": "        active  reassignment_count  reopen_count  sys_mod_count  made_sla  \\\ncount  16137.0        16137.000000       16137.0   16137.000000   16137.0   \nmean       1.0            0.665427           0.0       1.568817       1.0   \nstd        0.0            1.110488           0.0       2.957095       0.0   \nmin        1.0            0.000000           0.0       0.000000       1.0   \n25%        1.0            0.000000           0.0       0.000000       1.0   \n50%        1.0            0.000000           0.0       1.000000       1.0   \n75%        1.0            1.000000           0.0       2.000000       1.0   \nmax        1.0           13.000000           0.0      64.000000       1.0   \n\n          knowledge  u_priority_confirmation        target  \ncount  16137.000000             16137.000000  10572.000000  \nmean       0.153126                 0.000744    341.463678  \nstd        0.360120                 0.027260    451.432343  \nmin        0.000000                 0.000000      0.000000  \n25%        0.000000                 0.000000    125.000000  \n50%        0.000000                 0.000000    213.000000  \n75%        0.000000                 0.000000    402.000000  \nmax        1.000000                 1.000000   5380.000000  ",
      "text/html": "<div>\n<style scoped>\n    .dataframe tbody tr th:only-of-type {\n        vertical-align: middle;\n    }\n\n    .dataframe tbody tr th {\n        vertical-align: top;\n    }\n\n    .dataframe thead th {\n        text-align: right;\n    }\n</style>\n<table border=\"1\" class=\"dataframe\">\n  <thead>\n    <tr style=\"text-align: right;\">\n      <th></th>\n      <th>active</th>\n      <th>reassignment_count</th>\n      <th>reopen_count</th>\n      <th>sys_mod_count</th>\n      <th>made_sla</th>\n      <th>knowledge</th>\n      <th>u_priority_confirmation</th>\n      <th>target</th>\n    </tr>\n  </thead>\n  <tbody>\n    <tr>\n      <th>count</th>\n      <td>16137.0</td>\n      <td>16137.000000</td>\n      <td>16137.0</td>\n      <td>16137.000000</td>\n      <td>16137.0</td>\n      <td>16137.000000</td>\n      <td>16137.000000</td>\n      <td>10572.000000</td>\n    </tr>\n    <tr>\n      <th>mean</th>\n      <td>1.0</td>\n      <td>0.665427</td>\n      <td>0.0</td>\n      <td>1.568817</td>\n      <td>1.0</td>\n      <td>0.153126</td>\n      <td>0.000744</td>\n      <td>341.463678</td>\n    </tr>\n    <tr>\n      <th>std</th>\n      <td>0.0</td>\n      <td>1.110488</td>\n      <td>0.0</td>\n      <td>2.957095</td>\n      <td>0.0</td>\n      <td>0.360120</td>\n      <td>0.027260</td>\n      <td>451.432343</td>\n    </tr>\n    <tr>\n      <th>min</th>\n      <td>1.0</td>\n      <td>0.000000</td>\n      <td>0.0</td>\n      <td>0.000000</td>\n      <td>1.0</td>\n      <td>0.000000</td>\n      <td>0.000000</td>\n      <td>0.000000</td>\n    </tr>\n    <tr>\n      <th>25%</th>\n      <td>1.0</td>\n      <td>0.000000</td>\n      <td>0.0</td>\n      <td>0.000000</td>\n      <td>1.0</td>\n      <td>0.000000</td>\n      <td>0.000000</td>\n      <td>125.000000</td>\n    </tr>\n    <tr>\n      <th>50%</th>\n      <td>1.0</td>\n      <td>0.000000</td>\n      <td>0.0</td>\n      <td>1.000000</td>\n      <td>1.0</td>\n      <td>0.000000</td>\n      <td>0.000000</td>\n      <td>213.000000</td>\n    </tr>\n    <tr>\n      <th>75%</th>\n      <td>1.0</td>\n      <td>1.000000</td>\n      <td>0.0</td>\n      <td>2.000000</td>\n      <td>1.0</td>\n      <td>0.000000</td>\n      <td>0.000000</td>\n      <td>402.000000</td>\n    </tr>\n    <tr>\n      <th>max</th>\n      <td>1.0</td>\n      <td>13.000000</td>\n      <td>0.0</td>\n      <td>64.000000</td>\n      <td>1.0</td>\n      <td>1.000000</td>\n      <td>1.000000</td>\n      <td>5380.000000</td>\n    </tr>\n  </tbody>\n</table>\n</div>"
     },
     "execution_count": 82,
     "metadata": {},
     "output_type": "execute_result"
    }
   ],
   "source": [
    "df_all.describe()"
   ],
   "metadata": {
    "collapsed": false,
    "pycharm": {
     "name": "#%%\n"
    }
   }
  },
  {
   "cell_type": "code",
   "execution_count": 83,
   "outputs": [
    {
     "data": {
      "text/plain": "caused_by                  99.987606\nvendor                     99.919440\ncmdb_ci                    99.770713\nrfc                        99.665365\nproblem_id                 98.958914\nassigned_to                41.197249\nsys_created_at             39.375349\nsys_created_by             39.375349\ntarget                     34.485964\nu_symptom                  23.474004\nassignment_group            9.295408\nopened_by                   3.253393\nsubcategory                 0.303650\nlocation                    0.285059\ncategory                    0.117742\nresolved_by                 0.049576\ncaller_id                   0.012394\nknowledge                   0.000000\nreopen_count                0.000000\nsys_mod_count               0.000000\nmade_sla                    0.000000\nnotify                      0.000000\nu_priority_confirmation     0.000000\nsys_updated_by              0.000000\nsys_updated_at              0.000000\npriority                    0.000000\nurgency                     0.000000\nimpact                      0.000000\nopened_at                   0.000000\nreassignment_count          0.000000\ncontact_type                0.000000\nactive                      0.000000\ndtype: float64"
     },
     "execution_count": 83,
     "metadata": {},
     "output_type": "execute_result"
    }
   ],
   "source": [
    "df_all_na = (df_all.isnull().sum() / len(df_all)) * 100\n",
    "df_all_na = df_all_na.sort_values(ascending=False)\n",
    "df_all_na"
   ],
   "metadata": {
    "collapsed": false,
    "pycharm": {
     "name": "#%%\n"
    }
   }
  },
  {
   "cell_type": "code",
   "execution_count": 84,
   "outputs": [
    {
     "data": {
      "text/plain": "<AxesSubplot:>"
     },
     "execution_count": 84,
     "metadata": {},
     "output_type": "execute_result"
    },
    {
     "data": {
      "text/plain": "<Figure size 1080x864 with 1 Axes>",
      "image/png": "[encoded data removed]"
     },
     "metadata": {},
     "output_type": "display_data"
    }
   ],
   "source": [
    "f, ax = plt.subplots(figsize=(15, 12))\n",
    "plt.xticks(rotation='90')\n",
    "sns.barplot(x=df_all_na.index, y=df_all_na)"
   ],
   "metadata": {
    "collapsed": false,
    "pycharm": {
     "name": "#%%\n"
    }
   }
  },
  {
   "cell_type": "code",
   "execution_count": 85,
   "outputs": [],
   "source": [
    "df_all.drop(['caused_by', 'vendor', 'cmdb_ci', 'rfc', 'problem_id'], axis=1, inplace=True)"
   ],
   "metadata": {
    "collapsed": false,
    "pycharm": {
     "name": "#%%\n"
    }
   }
  },
  {
   "cell_type": "code",
   "execution_count": 86,
   "outputs": [],
   "source": [
    "def target_table(col: str):\n",
    "    return df_all[[col, 'target']].groupby([col], as_index=False).mean().sort_values(by='target', ascending=False)"
   ],
   "metadata": {
    "collapsed": false,
    "pycharm": {
     "name": "#%%\n"
    }
   }
  },
  {
   "cell_type": "code",
   "execution_count": 87,
   "outputs": [
    {
     "data": {
      "text/plain": "      assigned_to       target\n8    Resolver 114  4651.000000\n44   Resolver 160  4628.000000\n14   Resolver 124  4368.000000\n137   Resolver 64  3986.142857\n80   Resolver 217  3753.555556\n..            ...          ...\n125   Resolver 46          NaN\n130   Resolver 50          NaN\n131   Resolver 52          NaN\n152    Resolver 9          NaN\n153   Resolver 90          NaN\n\n[158 rows x 2 columns]",
      "text/html": "<div>\n<style scoped>\n    .dataframe tbody tr th:only-of-type {\n        vertical-align: middle;\n    }\n\n    .dataframe tbody tr th {\n        vertical-align: top;\n    }\n\n    .dataframe thead th {\n        text-align: right;\n    }\n</style>\n<table border=\"1\" class=\"dataframe\">\n  <thead>\n    <tr style=\"text-align: right;\">\n      <th></th>\n      <th>assigned_to</th>\n      <th>target</th>\n    </tr>\n  </thead>\n  <tbody>\n    <tr>\n      <th>8</th>\n      <td>Resolver 114</td>\n      <td>4651.000000</td>\n    </tr>\n    <tr>\n      <th>44</th>\n      <td>Resolver 160</td>\n      <td>4628.000000</td>\n    </tr>\n    <tr>\n      <th>14</th>\n      <td>Resolver 124</td>\n      <td>4368.000000</td>\n    </tr>\n    <tr>\n      <th>137</th>\n      <td>Resolver 64</td>\n      <td>3986.142857</td>\n    </tr>\n    <tr>\n      <th>80</th>\n      <td>Resolver 217</td>\n      <td>3753.555556</td>\n    </tr>\n    <tr>\n      <th>...</th>\n      <td>...</td>\n      <td>...</td>\n    </tr>\n    <tr>\n      <th>125</th>\n      <td>Resolver 46</td>\n      <td>NaN</td>\n    </tr>\n    <tr>\n      <th>130</th>\n      <td>Resolver 50</td>\n      <td>NaN</td>\n    </tr>\n    <tr>\n      <th>131</th>\n      <td>Resolver 52</td>\n      <td>NaN</td>\n    </tr>\n    <tr>\n      <th>152</th>\n      <td>Resolver 9</td>\n      <td>NaN</td>\n    </tr>\n    <tr>\n      <th>153</th>\n      <td>Resolver 90</td>\n      <td>NaN</td>\n    </tr>\n  </tbody>\n</table>\n<p>158 rows × 2 columns</p>\n</div>"
     },
     "execution_count": 87,
     "metadata": {},
     "output_type": "execute_result"
    }
   ],
   "source": [
    "target_table('assigned_to')"
   ],
   "metadata": {
    "collapsed": false,
    "pycharm": {
     "name": "#%%\n"
    }
   }
  },
  {
   "cell_type": "code",
   "execution_count": 88,
   "outputs": [
    {
     "name": "stdout",
     "output_type": "stream",
     "text": [
      "  contact_type      target\n",
      "1        Phone  341.480258\n",
      "0        Email  336.611111\n",
      "   knowledge      target\n",
      "1        1.0  460.184945\n",
      "0        0.0  305.250833\n",
      "   u_priority_confirmation      target\n",
      "0                      0.0  341.492711\n",
      "1                      1.0  303.125000\n",
      "          notify      target\n",
      "0  Do Not Notify  341.480258\n",
      "1     Send Email  336.611111\n"
     ]
    }
   ],
   "source": [
    "for col in df_all.columns:\n",
    "    if col != 'target' and target_table(col).shape == (2, 2):\n",
    "        print(target_table(col))"
   ],
   "metadata": {
    "collapsed": false,
    "pycharm": {
     "name": "#%%\n"
    }
   }
  },
  {
   "cell_type": "code",
   "execution_count": 89,
   "outputs": [],
   "source": [
    "df_all.drop(['active', 'reopen_count', 'made_sla', 'sys_created_at'], axis=1, inplace=True)"
   ],
   "metadata": {
    "collapsed": false,
    "pycharm": {
     "name": "#%%\n"
    }
   }
  },
  {
   "cell_type": "code",
   "execution_count": 90,
   "outputs": [
    {
     "data": {
      "text/plain": "       reassignment_count  sys_mod_count    caller_id       opened_by  \\\n0                     0.0            0.0  Caller 2403    Opened by  8   \n1                     0.0            0.0  Caller 2403  Opened by  397   \n2                     0.0            4.0  Caller 4416    Opened by  8   \n3                     0.0            0.0  Caller 4491  Opened by  180   \n4                     1.0            5.0  Caller 3765  Opened by  180   \n...                   ...            ...          ...             ...   \n16132                 0.0            0.0   Caller 249   Opened by  17   \n16133                 0.0            0.0  Caller 4793  Opened by  443   \n16134                 0.0            0.0  Caller 5203   Opened by  58   \n16135                 0.0            1.0  Caller 3617   Opened by  17   \n16136                 0.0            0.0   Caller 803   Opened by  68   \n\n       sys_created_by  sys_updated_by contact_type      location     category  \\\n0        Created by 6   Updated by 21        Phone  Location 143  Category 55   \n1      Created by 171  Updated by 746        Phone  Location 165  Category 40   \n2                 NaN   Updated by 21        Phone  Location 204  Category 20   \n3       Created by 81  Updated by 340        Phone  Location 204   Category 9   \n4       Created by 81  Updated by 241        Phone   Location 93  Category 53   \n...               ...             ...          ...           ...          ...   \n16132   Created by 10   Updated by 44        Phone  Location 204  Category 57   \n16133             NaN  Updated by 908        Phone  Location 204  Category 32   \n16134             NaN  Updated by 908        Phone  Location 108  Category 26   \n16135   Created by 10   Updated by 44        Phone  Location 172  Category 54   \n16136   Created by 37  Updated by 147        Phone   Location 93  Category 42   \n\n           subcategory  ...      priority assignment_group   assigned_to  \\\n0      Subcategory 170  ...  3 - Moderate         Group 56           NaN   \n1      Subcategory 215  ...  3 - Moderate         Group 70   Resolver 89   \n2      Subcategory 125  ...  3 - Moderate         Group 70           NaN   \n3       Subcategory 97  ...  3 - Moderate         Group 25  Resolver 125   \n4      Subcategory 168  ...      2 - High         Group 23           NaN   \n...                ...  ...           ...              ...           ...   \n16132  Subcategory 170  ...  3 - Moderate         Group 56  Resolver 167   \n16133  Subcategory 174  ...  3 - Moderate         Group 70           NaN   \n16134  Subcategory 174  ...  3 - Moderate         Group 70           NaN   \n16135  Subcategory 177  ...  3 - Moderate         Group 33  Resolver 159   \n16136   Subcategory 29  ...  3 - Moderate         Group 55   Resolver 84   \n\n      knowledge u_priority_confirmation         notify      resolved_by  \\\n0           1.0                     0.0  Do Not Notify  Resolved by 149   \n1           1.0                     0.0  Do Not Notify   Resolved by 81   \n2           1.0                     0.0  Do Not Notify    Resolved by 5   \n3           1.0                     0.0  Do Not Notify  Resolved by 113   \n4           1.0                     0.0  Do Not Notify   Resolved by 62   \n...         ...                     ...            ...              ...   \n16132       0.0                     0.0  Do Not Notify  Resolved by 150   \n16133       0.0                     0.0  Do Not Notify  Resolved by 189   \n16134       0.0                     0.0  Do Not Notify   Resolved by 29   \n16135       0.0                     0.0  Do Not Notify  Resolved by 143   \n16136       0.0                     0.0  Do Not Notify   Resolved by 77   \n\n       target opened_at_hour sys_updated_at_hour  \n0       130.0              1                   1  \n1       149.0              4                   4  \n2       140.0              6                   2  \n3       174.0              6                   6  \n4       129.0              6                  15  \n...       ...            ...                 ...  \n16132     NaN             20                  20  \n16133     NaN             20                  20  \n16134     NaN             20                  20  \n16135     NaN             12                  12  \n16136     NaN              8                   8  \n\n[16137 rows x 23 columns]",
      "text/html": "<div>\n<style scoped>\n    .dataframe tbody tr th:only-of-type {\n        vertical-align: middle;\n    }\n\n    .dataframe tbody tr th {\n        vertical-align: top;\n    }\n\n    .dataframe thead th {\n        text-align: right;\n    }\n</style>\n<table border=\"1\" class=\"dataframe\">\n  <thead>\n    <tr style=\"text-align: right;\">\n      <th></th>\n      <th>reassignment_count</th>\n      <th>sys_mod_count</th>\n      <th>caller_id</th>\n      <th>opened_by</th>\n      <th>sys_created_by</th>\n      <th>sys_updated_by</th>\n      <th>contact_type</th>\n      <th>location</th>\n      <th>category</th>\n      <th>subcategory</th>\n      <th>...</th>\n      <th>priority</th>\n      <th>assignment_group</th>\n      <th>assigned_to</th>\n      <th>knowledge</th>\n      <th>u_priority_confirmation</th>\n      <th>notify</th>\n      <th>resolved_by</th>\n      <th>target</th>\n      <th>opened_at_hour</th>\n      <th>sys_updated_at_hour</th>\n    </tr>\n  </thead>\n  <tbody>\n    <tr>\n      <th>0</th>\n      <td>0.0</td>\n      <td>0.0</td>\n      <td>Caller 2403</td>\n      <td>Opened by  8</td>\n      <td>Created by 6</td>\n      <td>Updated by 21</td>\n      <td>Phone</td>\n      <td>Location 143</td>\n      <td>Category 55</td>\n      <td>Subcategory 170</td>\n      <td>...</td>\n      <td>3 - Moderate</td>\n      <td>Group 56</td>\n      <td>NaN</td>\n      <td>1.0</td>\n      <td>0.0</td>\n      <td>Do Not Notify</td>\n      <td>Resolved by 149</td>\n      <td>130.0</td>\n      <td>1</td>\n      <td>1</td>\n    </tr>\n    <tr>\n      <th>1</th>\n      <td>0.0</td>\n      <td>0.0</td>\n      <td>Caller 2403</td>\n      <td>Opened by  397</td>\n      <td>Created by 171</td>\n      <td>Updated by 746</td>\n      <td>Phone</td>\n      <td>Location 165</td>\n      <td>Category 40</td>\n      <td>Subcategory 215</td>\n      <td>...</td>\n      <td>3 - Moderate</td>\n      <td>Group 70</td>\n      <td>Resolver 89</td>\n      <td>1.0</td>\n      <td>0.0</td>\n      <td>Do Not Notify</td>\n      <td>Resolved by 81</td>\n      <td>149.0</td>\n      <td>4</td>\n      <td>4</td>\n    </tr>\n    <tr>\n      <th>2</th>\n      <td>0.0</td>\n      <td>4.0</td>\n      <td>Caller 4416</td>\n      <td>Opened by  8</td>\n      <td>NaN</td>\n      <td>Updated by 21</td>\n      <td>Phone</td>\n      <td>Location 204</td>\n      <td>Category 20</td>\n      <td>Subcategory 125</td>\n      <td>...</td>\n      <td>3 - Moderate</td>\n      <td>Group 70</td>\n      <td>NaN</td>\n      <td>1.0</td>\n      <td>0.0</td>\n      <td>Do Not Notify</td>\n      <td>Resolved by 5</td>\n      <td>140.0</td>\n      <td>6</td>\n      <td>2</td>\n    </tr>\n    <tr>\n      <th>3</th>\n      <td>0.0</td>\n      <td>0.0</td>\n      <td>Caller 4491</td>\n      <td>Opened by  180</td>\n      <td>Created by 81</td>\n      <td>Updated by 340</td>\n      <td>Phone</td>\n      <td>Location 204</td>\n      <td>Category 9</td>\n      <td>Subcategory 97</td>\n      <td>...</td>\n      <td>3 - Moderate</td>\n      <td>Group 25</td>\n      <td>Resolver 125</td>\n      <td>1.0</td>\n      <td>0.0</td>\n      <td>Do Not Notify</td>\n      <td>Resolved by 113</td>\n      <td>174.0</td>\n      <td>6</td>\n      <td>6</td>\n    </tr>\n    <tr>\n      <th>4</th>\n      <td>1.0</td>\n      <td>5.0</td>\n      <td>Caller 3765</td>\n      <td>Opened by  180</td>\n      <td>Created by 81</td>\n      <td>Updated by 241</td>\n      <td>Phone</td>\n      <td>Location 93</td>\n      <td>Category 53</td>\n      <td>Subcategory 168</td>\n      <td>...</td>\n      <td>2 - High</td>\n      <td>Group 23</td>\n      <td>NaN</td>\n      <td>1.0</td>\n      <td>0.0</td>\n      <td>Do Not Notify</td>\n      <td>Resolved by 62</td>\n      <td>129.0</td>\n      <td>6</td>\n      <td>15</td>\n    </tr>\n    <tr>\n      <th>...</th>\n      <td>...</td>\n      <td>...</td>\n      <td>...</td>\n      <td>...</td>\n      <td>...</td>\n      <td>...</td>\n      <td>...</td>\n      <td>...</td>\n      <td>...</td>\n      <td>...</td>\n      <td>...</td>\n      <td>...</td>\n      <td>...</td>\n      <td>...</td>\n      <td>...</td>\n      <td>...</td>\n      <td>...</td>\n      <td>...</td>\n      <td>...</td>\n      <td>...</td>\n      <td>...</td>\n    </tr>\n    <tr>\n      <th>16132</th>\n      <td>0.0</td>\n      <td>0.0</td>\n      <td>Caller 249</td>\n      <td>Opened by  17</td>\n      <td>Created by 10</td>\n      <td>Updated by 44</td>\n      <td>Phone</td>\n      <td>Location 204</td>\n      <td>Category 57</td>\n      <td>Subcategory 170</td>\n      <td>...</td>\n      <td>3 - Moderate</td>\n      <td>Group 56</td>\n      <td>Resolver 167</td>\n      <td>0.0</td>\n      <td>0.0</td>\n      <td>Do Not Notify</td>\n      <td>Resolved by 150</td>\n      <td>NaN</td>\n      <td>20</td>\n      <td>20</td>\n    </tr>\n    <tr>\n      <th>16133</th>\n      <td>0.0</td>\n      <td>0.0</td>\n      <td>Caller 4793</td>\n      <td>Opened by  443</td>\n      <td>NaN</td>\n      <td>Updated by 908</td>\n      <td>Phone</td>\n      <td>Location 204</td>\n      <td>Category 32</td>\n      <td>Subcategory 174</td>\n      <td>...</td>\n      <td>3 - Moderate</td>\n      <td>Group 70</td>\n      <td>NaN</td>\n      <td>0.0</td>\n      <td>0.0</td>\n      <td>Do Not Notify</td>\n      <td>Resolved by 189</td>\n      <td>NaN</td>\n      <td>20</td>\n      <td>20</td>\n    </tr>\n    <tr>\n      <th>16134</th>\n      <td>0.0</td>\n      <td>0.0</td>\n      <td>Caller 5203</td>\n      <td>Opened by  58</td>\n      <td>NaN</td>\n      <td>Updated by 908</td>\n      <td>Phone</td>\n      <td>Location 108</td>\n      <td>Category 26</td>\n      <td>Subcategory 174</td>\n      <td>...</td>\n      <td>3 - Moderate</td>\n      <td>Group 70</td>\n      <td>NaN</td>\n      <td>0.0</td>\n      <td>0.0</td>\n      <td>Do Not Notify</td>\n      <td>Resolved by 29</td>\n      <td>NaN</td>\n      <td>20</td>\n      <td>20</td>\n    </tr>\n    <tr>\n      <th>16135</th>\n      <td>0.0</td>\n      <td>1.0</td>\n      <td>Caller 3617</td>\n      <td>Opened by  17</td>\n      <td>Created by 10</td>\n      <td>Updated by 44</td>\n      <td>Phone</td>\n      <td>Location 172</td>\n      <td>Category 54</td>\n      <td>Subcategory 177</td>\n      <td>...</td>\n      <td>3 - Moderate</td>\n      <td>Group 33</td>\n      <td>Resolver 159</td>\n      <td>0.0</td>\n      <td>0.0</td>\n      <td>Do Not Notify</td>\n      <td>Resolved by 143</td>\n      <td>NaN</td>\n      <td>12</td>\n      <td>12</td>\n    </tr>\n    <tr>\n      <th>16136</th>\n      <td>0.0</td>\n      <td>0.0</td>\n      <td>Caller 803</td>\n      <td>Opened by  68</td>\n      <td>Created by 37</td>\n      <td>Updated by 147</td>\n      <td>Phone</td>\n      <td>Location 93</td>\n      <td>Category 42</td>\n      <td>Subcategory 29</td>\n      <td>...</td>\n      <td>3 - Moderate</td>\n      <td>Group 55</td>\n      <td>Resolver 84</td>\n      <td>0.0</td>\n      <td>0.0</td>\n      <td>Do Not Notify</td>\n      <td>Resolved by 77</td>\n      <td>NaN</td>\n      <td>8</td>\n      <td>8</td>\n    </tr>\n  </tbody>\n</table>\n<p>16137 rows × 23 columns</p>\n</div>"
     },
     "execution_count": 90,
     "metadata": {},
     "output_type": "execute_result"
    }
   ],
   "source": [
    "df_all['sys_updated_at'] = pd.to_datetime(df_all['sys_updated_at'])\n",
    "df_all['opened_at'] = pd.to_datetime(df_all['opened_at'])\n",
    "df_all['opened_at_hour'] = df_all['opened_at'].dt.hour\n",
    "df_all['sys_updated_at_hour'] = df_all['sys_updated_at'].dt.hour\n",
    "df_all.drop(['sys_updated_at', 'opened_at'], axis=1, inplace=True)\n",
    "df_all"
   ],
   "metadata": {
    "collapsed": false,
    "pycharm": {
     "name": "#%%\n"
    }
   }
  },
  {
   "cell_type": "code",
   "execution_count": 91,
   "outputs": [],
   "source": [
    "for col in ['opened_at_hour', 'sys_updated_at_hour']:\n",
    "    df_all.loc[df_all[col] <= 10, col] = 0\n",
    "    df_all.loc[df_all[col] > 10, col] = 1"
   ],
   "metadata": {
    "collapsed": false,
    "pycharm": {
     "name": "#%%\n"
    }
   }
  },
  {
   "cell_type": "code",
   "execution_count": 92,
   "outputs": [],
   "source": [
    "for col in df_all.columns:\n",
    "    if col != 'target':\n",
    "        df_all[col].fillna('?', inplace=True)"
   ],
   "metadata": {
    "collapsed": false,
    "pycharm": {
     "name": "#%%\n"
    }
   }
  },
  {
   "cell_type": "code",
   "execution_count": 93,
   "outputs": [],
   "source": [
    "def fillna_closer(col: str):\n",
    "    table = target_table(col)\n",
    "    idx = df_train.loc[df_train[col] == '?'].index.to_list()\n",
    "    for index in idx:\n",
    "        closer = min(table['target'], key=lambda x: abs(x - df_train['target'][index]))\n",
    "        index_2 = table.loc[table['target'] == closer].index.to_list()\n",
    "        df_train[col][index] = table[col][index_2[0]]"
   ],
   "metadata": {
    "collapsed": false,
    "pycharm": {
     "name": "#%%\n"
    }
   }
  },
  {
   "cell_type": "code",
   "execution_count": 94,
   "outputs": [
    {
     "name": "stderr",
     "output_type": "stream",
     "text": [
      "C:\\Users\\kloko\\AppData\\Local\\Temp\\ipykernel_8040\\168206875.py:3: SettingWithCopyWarning: \n",
      "A value is trying to be set on a copy of a slice from a DataFrame\n",
      "\n",
      "See the caveats in the documentation: https://pandas.pydata.org/pandas-docs/stable/user_guide/indexing.html#returning-a-view-versus-a-copy\n",
      "  df_prom.drop(['target'], axis=1, inplace=True)\n"
     ]
    }
   ],
   "source": [
    "df_train = df_all[:len_train]\n",
    "df_prom = df_all[len_train:]\n",
    "df_prom.drop(['target'], axis=1, inplace=True)"
   ],
   "metadata": {
    "collapsed": false,
    "pycharm": {
     "name": "#%%\n"
    }
   }
  },
  {
   "cell_type": "code",
   "execution_count": 95,
   "outputs": [
    {
     "name": "stderr",
     "output_type": "stream",
     "text": [
      "C:\\Users\\kloko\\AppData\\Local\\Temp\\ipykernel_8040\\4007128504.py:7: SettingWithCopyWarning: \n",
      "A value is trying to be set on a copy of a slice from a DataFrame\n",
      "\n",
      "See the caveats in the documentation: https://pandas.pydata.org/pandas-docs/stable/user_guide/indexing.html#returning-a-view-versus-a-copy\n",
      "  df_train[col][index] = table[col][index_2[0]]\n",
      "C:\\Users\\kloko\\AppData\\Local\\Temp\\ipykernel_8040\\4007128504.py:7: SettingWithCopyWarning: \n",
      "A value is trying to be set on a copy of a slice from a DataFrame\n",
      "\n",
      "See the caveats in the documentation: https://pandas.pydata.org/pandas-docs/stable/user_guide/indexing.html#returning-a-view-versus-a-copy\n",
      "  df_train[col][index] = table[col][index_2[0]]\n",
      "C:\\Users\\kloko\\AppData\\Local\\Temp\\ipykernel_8040\\4007128504.py:7: SettingWithCopyWarning: \n",
      "A value is trying to be set on a copy of a slice from a DataFrame\n",
      "\n",
      "See the caveats in the documentation: https://pandas.pydata.org/pandas-docs/stable/user_guide/indexing.html#returning-a-view-versus-a-copy\n",
      "  df_train[col][index] = table[col][index_2[0]]\n",
      "C:\\Users\\kloko\\AppData\\Local\\Temp\\ipykernel_8040\\4007128504.py:7: SettingWithCopyWarning: \n",
      "A value is trying to be set on a copy of a slice from a DataFrame\n",
      "\n",
      "See the caveats in the documentation: https://pandas.pydata.org/pandas-docs/stable/user_guide/indexing.html#returning-a-view-versus-a-copy\n",
      "  df_train[col][index] = table[col][index_2[0]]\n",
      "C:\\Users\\kloko\\AppData\\Local\\Temp\\ipykernel_8040\\4007128504.py:7: SettingWithCopyWarning: \n",
      "A value is trying to be set on a copy of a slice from a DataFrame\n",
      "\n",
      "See the caveats in the documentation: https://pandas.pydata.org/pandas-docs/stable/user_guide/indexing.html#returning-a-view-versus-a-copy\n",
      "  df_train[col][index] = table[col][index_2[0]]\n",
      "C:\\Users\\kloko\\AppData\\Local\\Temp\\ipykernel_8040\\4007128504.py:7: SettingWithCopyWarning: \n",
      "A value is trying to be set on a copy of a slice from a DataFrame\n",
      "\n",
      "See the caveats in the documentation: https://pandas.pydata.org/pandas-docs/stable/user_guide/indexing.html#returning-a-view-versus-a-copy\n",
      "  df_train[col][index] = table[col][index_2[0]]\n",
      "C:\\Users\\kloko\\AppData\\Local\\Temp\\ipykernel_8040\\4007128504.py:7: SettingWithCopyWarning: \n",
      "A value is trying to be set on a copy of a slice from a DataFrame\n",
      "\n",
      "See the caveats in the documentation: https://pandas.pydata.org/pandas-docs/stable/user_guide/indexing.html#returning-a-view-versus-a-copy\n",
      "  df_train[col][index] = table[col][index_2[0]]\n",
      "C:\\Users\\kloko\\AppData\\Local\\Temp\\ipykernel_8040\\4007128504.py:7: SettingWithCopyWarning: \n",
      "A value is trying to be set on a copy of a slice from a DataFrame\n",
      "\n",
      "See the caveats in the documentation: https://pandas.pydata.org/pandas-docs/stable/user_guide/indexing.html#returning-a-view-versus-a-copy\n",
      "  df_train[col][index] = table[col][index_2[0]]\n",
      "C:\\Users\\kloko\\AppData\\Local\\Temp\\ipykernel_8040\\4007128504.py:7: SettingWithCopyWarning: \n",
      "A value is trying to be set on a copy of a slice from a DataFrame\n",
      "\n",
      "See the caveats in the documentation: https://pandas.pydata.org/pandas-docs/stable/user_guide/indexing.html#returning-a-view-versus-a-copy\n",
      "  df_train[col][index] = table[col][index_2[0]]\n",
      "C:\\Users\\kloko\\AppData\\Local\\Temp\\ipykernel_8040\\4007128504.py:7: SettingWithCopyWarning: \n",
      "A value is trying to be set on a copy of a slice from a DataFrame\n",
      "\n",
      "See the caveats in the documentation: https://pandas.pydata.org/pandas-docs/stable/user_guide/indexing.html#returning-a-view-versus-a-copy\n",
      "  df_train[col][index] = table[col][index_2[0]]\n"
     ]
    }
   ],
   "source": [
    "for col in df_train.columns:\n",
    "    if col != 'target':\n",
    "        fillna_closer(col)"
   ],
   "metadata": {
    "collapsed": false,
    "pycharm": {
     "name": "#%%\n"
    }
   }
  },
  {
   "cell_type": "code",
   "execution_count": 99,
   "outputs": [
    {
     "name": "stderr",
     "output_type": "stream",
     "text": [
      "C:\\Users\\kloko\\AppData\\Local\\Temp\\ipykernel_8040\\3770099121.py:2: SettingWithCopyWarning: \n",
      "A value is trying to be set on a copy of a slice from a DataFrame.\n",
      "Try using .loc[row_indexer,col_indexer] = value instead\n",
      "\n",
      "See the caveats in the documentation: https://pandas.pydata.org/pandas-docs/stable/user_guide/indexing.html#returning-a-view-versus-a-copy\n",
      "  df_prom[col] = np.where((df_prom[col] == '?'), np.nan, df_prom[col])\n"
     ]
    }
   ],
   "source": [
    "for col in df_prom.columns:\n",
    "    df_prom[col] = np.where((df_prom[col] == '?'), np.nan, df_prom[col])"
   ],
   "metadata": {
    "collapsed": false,
    "pycharm": {
     "name": "#%%\n"
    }
   }
  },
  {
   "cell_type": "code",
   "execution_count": 101,
   "outputs": [
    {
     "name": "stderr",
     "output_type": "stream",
     "text": [
      "C:\\Users\\kloko\\AppData\\Local\\Temp\\ipykernel_8040\\1417942855.py:2: SettingWithCopyWarning: \n",
      "A value is trying to be set on a copy of a slice from a DataFrame.\n",
      "Try using .loc[row_indexer,col_indexer] = value instead\n",
      "\n",
      "See the caveats in the documentation: https://pandas.pydata.org/pandas-docs/stable/user_guide/indexing.html#returning-a-view-versus-a-copy\n",
      "  df_prom[col] = df_prom[col].fillna(df_train[col].mode()[0])\n",
      "C:\\Users\\kloko\\AppData\\Local\\Temp\\ipykernel_8040\\1417942855.py:2: SettingWithCopyWarning: \n",
      "A value is trying to be set on a copy of a slice from a DataFrame.\n",
      "Try using .loc[row_indexer,col_indexer] = value instead\n",
      "\n",
      "See the caveats in the documentation: https://pandas.pydata.org/pandas-docs/stable/user_guide/indexing.html#returning-a-view-versus-a-copy\n",
      "  df_prom[col] = df_prom[col].fillna(df_train[col].mode()[0])\n",
      "C:\\Users\\kloko\\AppData\\Local\\Temp\\ipykernel_8040\\1417942855.py:2: SettingWithCopyWarning: \n",
      "A value is trying to be set on a copy of a slice from a DataFrame.\n",
      "Try using .loc[row_indexer,col_indexer] = value instead\n",
      "\n",
      "See the caveats in the documentation: https://pandas.pydata.org/pandas-docs/stable/user_guide/indexing.html#returning-a-view-versus-a-copy\n",
      "  df_prom[col] = df_prom[col].fillna(df_train[col].mode()[0])\n",
      "C:\\Users\\kloko\\AppData\\Local\\Temp\\ipykernel_8040\\1417942855.py:2: SettingWithCopyWarning: \n",
      "A value is trying to be set on a copy of a slice from a DataFrame.\n",
      "Try using .loc[row_indexer,col_indexer] = value instead\n",
      "\n",
      "See the caveats in the documentation: https://pandas.pydata.org/pandas-docs/stable/user_guide/indexing.html#returning-a-view-versus-a-copy\n",
      "  df_prom[col] = df_prom[col].fillna(df_train[col].mode()[0])\n",
      "C:\\Users\\kloko\\AppData\\Local\\Temp\\ipykernel_8040\\1417942855.py:2: SettingWithCopyWarning: \n",
      "A value is trying to be set on a copy of a slice from a DataFrame.\n",
      "Try using .loc[row_indexer,col_indexer] = value instead\n",
      "\n",
      "See the caveats in the documentation: https://pandas.pydata.org/pandas-docs/stable/user_guide/indexing.html#returning-a-view-versus-a-copy\n",
      "  df_prom[col] = df_prom[col].fillna(df_train[col].mode()[0])\n",
      "C:\\Users\\kloko\\AppData\\Local\\Temp\\ipykernel_8040\\1417942855.py:2: SettingWithCopyWarning: \n",
      "A value is trying to be set on a copy of a slice from a DataFrame.\n",
      "Try using .loc[row_indexer,col_indexer] = value instead\n",
      "\n",
      "See the caveats in the documentation: https://pandas.pydata.org/pandas-docs/stable/user_guide/indexing.html#returning-a-view-versus-a-copy\n",
      "  df_prom[col] = df_prom[col].fillna(df_train[col].mode()[0])\n",
      "C:\\Users\\kloko\\AppData\\Local\\Temp\\ipykernel_8040\\1417942855.py:2: SettingWithCopyWarning: \n",
      "A value is trying to be set on a copy of a slice from a DataFrame.\n",
      "Try using .loc[row_indexer,col_indexer] = value instead\n",
      "\n",
      "See the caveats in the documentation: https://pandas.pydata.org/pandas-docs/stable/user_guide/indexing.html#returning-a-view-versus-a-copy\n",
      "  df_prom[col] = df_prom[col].fillna(df_train[col].mode()[0])\n",
      "C:\\Users\\kloko\\AppData\\Local\\Temp\\ipykernel_8040\\1417942855.py:2: SettingWithCopyWarning: \n",
      "A value is trying to be set on a copy of a slice from a DataFrame.\n",
      "Try using .loc[row_indexer,col_indexer] = value instead\n",
      "\n",
      "See the caveats in the documentation: https://pandas.pydata.org/pandas-docs/stable/user_guide/indexing.html#returning-a-view-versus-a-copy\n",
      "  df_prom[col] = df_prom[col].fillna(df_train[col].mode()[0])\n",
      "C:\\Users\\kloko\\AppData\\Local\\Temp\\ipykernel_8040\\1417942855.py:2: SettingWithCopyWarning: \n",
      "A value is trying to be set on a copy of a slice from a DataFrame.\n",
      "Try using .loc[row_indexer,col_indexer] = value instead\n",
      "\n",
      "See the caveats in the documentation: https://pandas.pydata.org/pandas-docs/stable/user_guide/indexing.html#returning-a-view-versus-a-copy\n",
      "  df_prom[col] = df_prom[col].fillna(df_train[col].mode()[0])\n",
      "C:\\Users\\kloko\\AppData\\Local\\Temp\\ipykernel_8040\\1417942855.py:2: SettingWithCopyWarning: \n",
      "A value is trying to be set on a copy of a slice from a DataFrame.\n",
      "Try using .loc[row_indexer,col_indexer] = value instead\n",
      "\n",
      "See the caveats in the documentation: https://pandas.pydata.org/pandas-docs/stable/user_guide/indexing.html#returning-a-view-versus-a-copy\n",
      "  df_prom[col] = df_prom[col].fillna(df_train[col].mode()[0])\n",
      "C:\\Users\\kloko\\AppData\\Local\\Temp\\ipykernel_8040\\1417942855.py:2: SettingWithCopyWarning: \n",
      "A value is trying to be set on a copy of a slice from a DataFrame.\n",
      "Try using .loc[row_indexer,col_indexer] = value instead\n",
      "\n",
      "See the caveats in the documentation: https://pandas.pydata.org/pandas-docs/stable/user_guide/indexing.html#returning-a-view-versus-a-copy\n",
      "  df_prom[col] = df_prom[col].fillna(df_train[col].mode()[0])\n",
      "C:\\Users\\kloko\\AppData\\Local\\Temp\\ipykernel_8040\\1417942855.py:2: SettingWithCopyWarning: \n",
      "A value is trying to be set on a copy of a slice from a DataFrame.\n",
      "Try using .loc[row_indexer,col_indexer] = value instead\n",
      "\n",
      "See the caveats in the documentation: https://pandas.pydata.org/pandas-docs/stable/user_guide/indexing.html#returning-a-view-versus-a-copy\n",
      "  df_prom[col] = df_prom[col].fillna(df_train[col].mode()[0])\n",
      "C:\\Users\\kloko\\AppData\\Local\\Temp\\ipykernel_8040\\1417942855.py:2: SettingWithCopyWarning: \n",
      "A value is trying to be set on a copy of a slice from a DataFrame.\n",
      "Try using .loc[row_indexer,col_indexer] = value instead\n",
      "\n",
      "See the caveats in the documentation: https://pandas.pydata.org/pandas-docs/stable/user_guide/indexing.html#returning-a-view-versus-a-copy\n",
      "  df_prom[col] = df_prom[col].fillna(df_train[col].mode()[0])\n",
      "C:\\Users\\kloko\\AppData\\Local\\Temp\\ipykernel_8040\\1417942855.py:2: SettingWithCopyWarning: \n",
      "A value is trying to be set on a copy of a slice from a DataFrame.\n",
      "Try using .loc[row_indexer,col_indexer] = value instead\n",
      "\n",
      "See the caveats in the documentation: https://pandas.pydata.org/pandas-docs/stable/user_guide/indexing.html#returning-a-view-versus-a-copy\n",
      "  df_prom[col] = df_prom[col].fillna(df_train[col].mode()[0])\n",
      "C:\\Users\\kloko\\AppData\\Local\\Temp\\ipykernel_8040\\1417942855.py:2: SettingWithCopyWarning: \n",
      "A value is trying to be set on a copy of a slice from a DataFrame.\n",
      "Try using .loc[row_indexer,col_indexer] = value instead\n",
      "\n",
      "See the caveats in the documentation: https://pandas.pydata.org/pandas-docs/stable/user_guide/indexing.html#returning-a-view-versus-a-copy\n",
      "  df_prom[col] = df_prom[col].fillna(df_train[col].mode()[0])\n",
      "C:\\Users\\kloko\\AppData\\Local\\Temp\\ipykernel_8040\\1417942855.py:2: SettingWithCopyWarning: \n",
      "A value is trying to be set on a copy of a slice from a DataFrame.\n",
      "Try using .loc[row_indexer,col_indexer] = value instead\n",
      "\n",
      "See the caveats in the documentation: https://pandas.pydata.org/pandas-docs/stable/user_guide/indexing.html#returning-a-view-versus-a-copy\n",
      "  df_prom[col] = df_prom[col].fillna(df_train[col].mode()[0])\n",
      "C:\\Users\\kloko\\AppData\\Local\\Temp\\ipykernel_8040\\1417942855.py:2: SettingWithCopyWarning: \n",
      "A value is trying to be set on a copy of a slice from a DataFrame.\n",
      "Try using .loc[row_indexer,col_indexer] = value instead\n",
      "\n",
      "See the caveats in the documentation: https://pandas.pydata.org/pandas-docs/stable/user_guide/indexing.html#returning-a-view-versus-a-copy\n",
      "  df_prom[col] = df_prom[col].fillna(df_train[col].mode()[0])\n",
      "C:\\Users\\kloko\\AppData\\Local\\Temp\\ipykernel_8040\\1417942855.py:2: SettingWithCopyWarning: \n",
      "A value is trying to be set on a copy of a slice from a DataFrame.\n",
      "Try using .loc[row_indexer,col_indexer] = value instead\n",
      "\n",
      "See the caveats in the documentation: https://pandas.pydata.org/pandas-docs/stable/user_guide/indexing.html#returning-a-view-versus-a-copy\n",
      "  df_prom[col] = df_prom[col].fillna(df_train[col].mode()[0])\n",
      "C:\\Users\\kloko\\AppData\\Local\\Temp\\ipykernel_8040\\1417942855.py:2: SettingWithCopyWarning: \n",
      "A value is trying to be set on a copy of a slice from a DataFrame.\n",
      "Try using .loc[row_indexer,col_indexer] = value instead\n",
      "\n",
      "See the caveats in the documentation: https://pandas.pydata.org/pandas-docs/stable/user_guide/indexing.html#returning-a-view-versus-a-copy\n",
      "  df_prom[col] = df_prom[col].fillna(df_train[col].mode()[0])\n",
      "C:\\Users\\kloko\\AppData\\Local\\Temp\\ipykernel_8040\\1417942855.py:2: SettingWithCopyWarning: \n",
      "A value is trying to be set on a copy of a slice from a DataFrame.\n",
      "Try using .loc[row_indexer,col_indexer] = value instead\n",
      "\n",
      "See the caveats in the documentation: https://pandas.pydata.org/pandas-docs/stable/user_guide/indexing.html#returning-a-view-versus-a-copy\n",
      "  df_prom[col] = df_prom[col].fillna(df_train[col].mode()[0])\n",
      "C:\\Users\\kloko\\AppData\\Local\\Temp\\ipykernel_8040\\1417942855.py:2: SettingWithCopyWarning: \n",
      "A value is trying to be set on a copy of a slice from a DataFrame.\n",
      "Try using .loc[row_indexer,col_indexer] = value instead\n",
      "\n",
      "See the caveats in the documentation: https://pandas.pydata.org/pandas-docs/stable/user_guide/indexing.html#returning-a-view-versus-a-copy\n",
      "  df_prom[col] = df_prom[col].fillna(df_train[col].mode()[0])\n",
      "C:\\Users\\kloko\\AppData\\Local\\Temp\\ipykernel_8040\\1417942855.py:2: SettingWithCopyWarning: \n",
      "A value is trying to be set on a copy of a slice from a DataFrame.\n",
      "Try using .loc[row_indexer,col_indexer] = value instead\n",
      "\n",
      "See the caveats in the documentation: https://pandas.pydata.org/pandas-docs/stable/user_guide/indexing.html#returning-a-view-versus-a-copy\n",
      "  df_prom[col] = df_prom[col].fillna(df_train[col].mode()[0])\n"
     ]
    }
   ],
   "source": [
    "for col in df_prom.columns:\n",
    "    df_prom[col] = df_prom[col].fillna(df_train[col].mode()[0])"
   ],
   "metadata": {
    "collapsed": false,
    "pycharm": {
     "name": "#%%\n"
    }
   }
  },
  {
   "cell_type": "code",
   "execution_count": 104,
   "outputs": [],
   "source": [
    "df_all = pd.concat((df_train, df_prom)).reset_index(drop=True)"
   ],
   "metadata": {
    "collapsed": false,
    "pycharm": {
     "name": "#%%\n"
    }
   }
  },
  {
   "cell_type": "code",
   "execution_count": 105,
   "outputs": [
    {
     "data": {
      "text/plain": "       reassignment_count  sys_mod_count    caller_id       opened_by  \\\n0                     0.0            0.0  Caller 2403    Opened by  8   \n1                     0.0            0.0  Caller 2403  Opened by  397   \n2                     0.0            4.0  Caller 4416    Opened by  8   \n3                     0.0            0.0  Caller 4491  Opened by  180   \n4                     1.0            5.0  Caller 3765  Opened by  180   \n...                   ...            ...          ...             ...   \n16132                 0.0            0.0   Caller 249   Opened by  17   \n16133                 0.0            0.0  Caller 4793  Opened by  443   \n16134                 0.0            0.0  Caller 5203   Opened by  58   \n16135                 0.0            1.0  Caller 3617   Opened by  17   \n16136                 0.0            0.0   Caller 803   Opened by  68   \n\n       sys_created_by  sys_updated_by contact_type      location     category  \\\n0        Created by 6   Updated by 21        Phone  Location 143  Category 55   \n1      Created by 171  Updated by 746        Phone  Location 165  Category 40   \n2       Created by 55   Updated by 21        Phone  Location 204  Category 20   \n3       Created by 81  Updated by 340        Phone  Location 204   Category 9   \n4       Created by 81  Updated by 241        Phone   Location 93  Category 53   \n...               ...             ...          ...           ...          ...   \n16132   Created by 10   Updated by 44        Phone  Location 204  Category 57   \n16133   Created by 10  Updated by 908        Phone  Location 204  Category 32   \n16134   Created by 10  Updated by 908        Phone  Location 108  Category 26   \n16135   Created by 10   Updated by 44        Phone  Location 172  Category 54   \n16136   Created by 37  Updated by 147        Phone   Location 93  Category 42   \n\n           subcategory  ...      priority assignment_group   assigned_to  \\\n0      Subcategory 170  ...  3 - Moderate         Group 56  Resolver 252   \n1      Subcategory 215  ...  3 - Moderate         Group 70   Resolver 89   \n2      Subcategory 125  ...  3 - Moderate         Group 70   Resolver 77   \n3       Subcategory 97  ...  3 - Moderate         Group 25  Resolver 125   \n4      Subcategory 168  ...      2 - High         Group 23  Resolver 252   \n...                ...  ...           ...              ...           ...   \n16132  Subcategory 170  ...  3 - Moderate         Group 56  Resolver 167   \n16133  Subcategory 174  ...  3 - Moderate         Group 70    Resolver 5   \n16134  Subcategory 174  ...  3 - Moderate         Group 70    Resolver 5   \n16135  Subcategory 177  ...  3 - Moderate         Group 33  Resolver 159   \n16136   Subcategory 29  ...  3 - Moderate         Group 55   Resolver 84   \n\n      knowledge u_priority_confirmation         notify      resolved_by  \\\n0           1.0                     0.0  Do Not Notify  Resolved by 149   \n1           1.0                     0.0  Do Not Notify   Resolved by 81   \n2           1.0                     0.0  Do Not Notify    Resolved by 5   \n3           1.0                     0.0  Do Not Notify  Resolved by 113   \n4           1.0                     0.0  Do Not Notify   Resolved by 62   \n...         ...                     ...            ...              ...   \n16132       0.0                     0.0  Do Not Notify  Resolved by 150   \n16133       0.0                     0.0  Do Not Notify  Resolved by 189   \n16134       0.0                     0.0  Do Not Notify   Resolved by 29   \n16135       0.0                     0.0  Do Not Notify  Resolved by 143   \n16136       0.0                     0.0  Do Not Notify   Resolved by 77   \n\n       target opened_at_hour sys_updated_at_hour  \n0       130.0            0.0                 0.0  \n1       149.0            0.0                 0.0  \n2       140.0            0.0                 0.0  \n3       174.0            0.0                 0.0  \n4       129.0            0.0                 1.0  \n...       ...            ...                 ...  \n16132     NaN            1.0                 1.0  \n16133     NaN            1.0                 1.0  \n16134     NaN            1.0                 1.0  \n16135     NaN            1.0                 1.0  \n16136     NaN            0.0                 0.0  \n\n[16137 rows x 23 columns]",
      "text/html": "<div>\n<style scoped>\n    .dataframe tbody tr th:only-of-type {\n        vertical-align: middle;\n    }\n\n    .dataframe tbody tr th {\n        vertical-align: top;\n    }\n\n    .dataframe thead th {\n        text-align: right;\n    }\n</style>\n<table border=\"1\" class=\"dataframe\">\n  <thead>\n    <tr style=\"text-align: right;\">\n      <th></th>\n      <th>reassignment_count</th>\n      <th>sys_mod_count</th>\n      <th>caller_id</th>\n      <th>opened_by</th>\n      <th>sys_created_by</th>\n      <th>sys_updated_by</th>\n      <th>contact_type</th>\n      <th>location</th>\n      <th>category</th>\n      <th>subcategory</th>\n      <th>...</th>\n      <th>priority</th>\n      <th>assignment_group</th>\n      <th>assigned_to</th>\n      <th>knowledge</th>\n      <th>u_priority_confirmation</th>\n      <th>notify</th>\n      <th>resolved_by</th>\n      <th>target</th>\n      <th>opened_at_hour</th>\n      <th>sys_updated_at_hour</th>\n    </tr>\n  </thead>\n  <tbody>\n    <tr>\n      <th>0</th>\n      <td>0.0</td>\n      <td>0.0</td>\n      <td>Caller 2403</td>\n      <td>Opened by  8</td>\n      <td>Created by 6</td>\n      <td>Updated by 21</td>\n      <td>Phone</td>\n      <td>Location 143</td>\n      <td>Category 55</td>\n      <td>Subcategory 170</td>\n      <td>...</td>\n      <td>3 - Moderate</td>\n      <td>Group 56</td>\n      <td>Resolver 252</td>\n      <td>1.0</td>\n      <td>0.0</td>\n      <td>Do Not Notify</td>\n      <td>Resolved by 149</td>\n      <td>130.0</td>\n      <td>0.0</td>\n      <td>0.0</td>\n    </tr>\n    <tr>\n      <th>1</th>\n      <td>0.0</td>\n      <td>0.0</td>\n      <td>Caller 2403</td>\n      <td>Opened by  397</td>\n      <td>Created by 171</td>\n      <td>Updated by 746</td>\n      <td>Phone</td>\n      <td>Location 165</td>\n      <td>Category 40</td>\n      <td>Subcategory 215</td>\n      <td>...</td>\n      <td>3 - Moderate</td>\n      <td>Group 70</td>\n      <td>Resolver 89</td>\n      <td>1.0</td>\n      <td>0.0</td>\n      <td>Do Not Notify</td>\n      <td>Resolved by 81</td>\n      <td>149.0</td>\n      <td>0.0</td>\n      <td>0.0</td>\n    </tr>\n    <tr>\n      <th>2</th>\n      <td>0.0</td>\n      <td>4.0</td>\n      <td>Caller 4416</td>\n      <td>Opened by  8</td>\n      <td>Created by 55</td>\n      <td>Updated by 21</td>\n      <td>Phone</td>\n      <td>Location 204</td>\n      <td>Category 20</td>\n      <td>Subcategory 125</td>\n      <td>...</td>\n      <td>3 - Moderate</td>\n      <td>Group 70</td>\n      <td>Resolver 77</td>\n      <td>1.0</td>\n      <td>0.0</td>\n      <td>Do Not Notify</td>\n      <td>Resolved by 5</td>\n      <td>140.0</td>\n      <td>0.0</td>\n      <td>0.0</td>\n    </tr>\n    <tr>\n      <th>3</th>\n      <td>0.0</td>\n      <td>0.0</td>\n      <td>Caller 4491</td>\n      <td>Opened by  180</td>\n      <td>Created by 81</td>\n      <td>Updated by 340</td>\n      <td>Phone</td>\n      <td>Location 204</td>\n      <td>Category 9</td>\n      <td>Subcategory 97</td>\n      <td>...</td>\n      <td>3 - Moderate</td>\n      <td>Group 25</td>\n      <td>Resolver 125</td>\n      <td>1.0</td>\n      <td>0.0</td>\n      <td>Do Not Notify</td>\n      <td>Resolved by 113</td>\n      <td>174.0</td>\n      <td>0.0</td>\n      <td>0.0</td>\n    </tr>\n    <tr>\n      <th>4</th>\n      <td>1.0</td>\n      <td>5.0</td>\n      <td>Caller 3765</td>\n      <td>Opened by  180</td>\n      <td>Created by 81</td>\n      <td>Updated by 241</td>\n      <td>Phone</td>\n      <td>Location 93</td>\n      <td>Category 53</td>\n      <td>Subcategory 168</td>\n      <td>...</td>\n      <td>2 - High</td>\n      <td>Group 23</td>\n      <td>Resolver 252</td>\n      <td>1.0</td>\n      <td>0.0</td>\n      <td>Do Not Notify</td>\n      <td>Resolved by 62</td>\n      <td>129.0</td>\n      <td>0.0</td>\n      <td>1.0</td>\n    </tr>\n    <tr>\n      <th>...</th>\n      <td>...</td>\n      <td>...</td>\n      <td>...</td>\n      <td>...</td>\n      <td>...</td>\n      <td>...</td>\n      <td>...</td>\n      <td>...</td>\n      <td>...</td>\n      <td>...</td>\n      <td>...</td>\n      <td>...</td>\n      <td>...</td>\n      <td>...</td>\n      <td>...</td>\n      <td>...</td>\n      <td>...</td>\n      <td>...</td>\n      <td>...</td>\n      <td>...</td>\n      <td>...</td>\n    </tr>\n    <tr>\n      <th>16132</th>\n      <td>0.0</td>\n      <td>0.0</td>\n      <td>Caller 249</td>\n      <td>Opened by  17</td>\n      <td>Created by 10</td>\n      <td>Updated by 44</td>\n      <td>Phone</td>\n      <td>Location 204</td>\n      <td>Category 57</td>\n      <td>Subcategory 170</td>\n      <td>...</td>\n      <td>3 - Moderate</td>\n      <td>Group 56</td>\n      <td>Resolver 167</td>\n      <td>0.0</td>\n      <td>0.0</td>\n      <td>Do Not Notify</td>\n      <td>Resolved by 150</td>\n      <td>NaN</td>\n      <td>1.0</td>\n      <td>1.0</td>\n    </tr>\n    <tr>\n      <th>16133</th>\n      <td>0.0</td>\n      <td>0.0</td>\n      <td>Caller 4793</td>\n      <td>Opened by  443</td>\n      <td>Created by 10</td>\n      <td>Updated by 908</td>\n      <td>Phone</td>\n      <td>Location 204</td>\n      <td>Category 32</td>\n      <td>Subcategory 174</td>\n      <td>...</td>\n      <td>3 - Moderate</td>\n      <td>Group 70</td>\n      <td>Resolver 5</td>\n      <td>0.0</td>\n      <td>0.0</td>\n      <td>Do Not Notify</td>\n      <td>Resolved by 189</td>\n      <td>NaN</td>\n      <td>1.0</td>\n      <td>1.0</td>\n    </tr>\n    <tr>\n      <th>16134</th>\n      <td>0.0</td>\n      <td>0.0</td>\n      <td>Caller 5203</td>\n      <td>Opened by  58</td>\n      <td>Created by 10</td>\n      <td>Updated by 908</td>\n      <td>Phone</td>\n      <td>Location 108</td>\n      <td>Category 26</td>\n      <td>Subcategory 174</td>\n      <td>...</td>\n      <td>3 - Moderate</td>\n      <td>Group 70</td>\n      <td>Resolver 5</td>\n      <td>0.0</td>\n      <td>0.0</td>\n      <td>Do Not Notify</td>\n      <td>Resolved by 29</td>\n      <td>NaN</td>\n      <td>1.0</td>\n      <td>1.0</td>\n    </tr>\n    <tr>\n      <th>16135</th>\n      <td>0.0</td>\n      <td>1.0</td>\n      <td>Caller 3617</td>\n      <td>Opened by  17</td>\n      <td>Created by 10</td>\n      <td>Updated by 44</td>\n      <td>Phone</td>\n      <td>Location 172</td>\n      <td>Category 54</td>\n      <td>Subcategory 177</td>\n      <td>...</td>\n      <td>3 - Moderate</td>\n      <td>Group 33</td>\n      <td>Resolver 159</td>\n      <td>0.0</td>\n      <td>0.0</td>\n      <td>Do Not Notify</td>\n      <td>Resolved by 143</td>\n      <td>NaN</td>\n      <td>1.0</td>\n      <td>1.0</td>\n    </tr>\n    <tr>\n      <th>16136</th>\n      <td>0.0</td>\n      <td>0.0</td>\n      <td>Caller 803</td>\n      <td>Opened by  68</td>\n      <td>Created by 37</td>\n      <td>Updated by 147</td>\n      <td>Phone</td>\n      <td>Location 93</td>\n      <td>Category 42</td>\n      <td>Subcategory 29</td>\n      <td>...</td>\n      <td>3 - Moderate</td>\n      <td>Group 55</td>\n      <td>Resolver 84</td>\n      <td>0.0</td>\n      <td>0.0</td>\n      <td>Do Not Notify</td>\n      <td>Resolved by 77</td>\n      <td>NaN</td>\n      <td>0.0</td>\n      <td>0.0</td>\n    </tr>\n  </tbody>\n</table>\n<p>16137 rows × 23 columns</p>\n</div>"
     },
     "execution_count": 105,
     "metadata": {},
     "output_type": "execute_result"
    }
   ],
   "source": [
    "df_all"
   ],
   "metadata": {
    "collapsed": false,
    "pycharm": {
     "name": "#%%\n"
    }
   }
  },
  {
   "cell_type": "code",
   "execution_count": 106,
   "outputs": [
    {
     "data": {
      "text/plain": "       reassignment_count  sys_mod_count  caller_id  opened_by  \\\n0                     0.0              0       1257        135   \n1                     0.0              0       1257         86   \n2                     0.0              4       3041        135   \n3                     0.0              0       3099         23   \n4                     1.0              5       2465         23   \n...                   ...            ...        ...        ...   \n16132                 0.0              0       1338         20   \n16133                 0.0              0       3363        100   \n16134                 0.0              0       3720        127   \n16135                 0.0              1       2328         20   \n16136                 0.0              0       4286        131   \n\n       sys_created_by  sys_updated_by  contact_type  location  category  \\\n0                 108              32             1        35        32   \n1                  44             161             1        50        21   \n2                 103              32             1        85         4   \n3                 119              62             1        85        40   \n4                 119              42             1       185        30   \n...               ...             ...           ...       ...       ...   \n16132               2              83             1        85        34   \n16133               2             207             1        85        14   \n16134               2             207             1         5         9   \n16135               2              83             1        57        31   \n16136              91              13             1       185        23   \n\n       subcategory  ...  priority  assignment_group  assigned_to  knowledge  \\\n0               55  ...         2                41          109          1   \n1               91  ...         2                56          152          1   \n2               22  ...         2                56          146          1   \n3              203  ...         2                14           16          1   \n4               52  ...         1                12          109          1   \n...            ...  ...       ...               ...          ...        ...   \n16132           55  ...         2                41           50          0   \n16133           59  ...         2                56          130          0   \n16134           59  ...         2                56          130          0   \n16135           62  ...         2                23           43          0   \n16136          143  ...         2                40          151          0   \n\n       u_priority_confirmation  notify  resolved_by  target  opened_at_hour  \\\n0                            0       0           45   130.0               0   \n1                            0       0          170   149.0               0   \n2                            0       0          148   140.0               0   \n3                            0       0           12   174.0               0   \n4                            0       0          158   129.0               0   \n...                        ...     ...          ...     ...             ...   \n16132                        0       0           47     NaN               1   \n16133                        0       0           82     NaN               1   \n16134                        0       0          127     NaN               1   \n16135                        0       0           42     NaN               1   \n16136                        0       0          168     NaN               0   \n\n       sys_updated_at_hour  \n0                        0  \n1                        0  \n2                        0  \n3                        0  \n4                        1  \n...                    ...  \n16132                    1  \n16133                    1  \n16134                    1  \n16135                    1  \n16136                    0  \n\n[16137 rows x 23 columns]",
      "text/html": "<div>\n<style scoped>\n    .dataframe tbody tr th:only-of-type {\n        vertical-align: middle;\n    }\n\n    .dataframe tbody tr th {\n        vertical-align: top;\n    }\n\n    .dataframe thead th {\n        text-align: right;\n    }\n</style>\n<table border=\"1\" class=\"dataframe\">\n  <thead>\n    <tr style=\"text-align: right;\">\n      <th></th>\n      <th>reassignment_count</th>\n      <th>sys_mod_count</th>\n      <th>caller_id</th>\n      <th>opened_by</th>\n      <th>sys_created_by</th>\n      <th>sys_updated_by</th>\n      <th>contact_type</th>\n      <th>location</th>\n      <th>category</th>\n      <th>subcategory</th>\n      <th>...</th>\n      <th>priority</th>\n      <th>assignment_group</th>\n      <th>assigned_to</th>\n      <th>knowledge</th>\n      <th>u_priority_confirmation</th>\n      <th>notify</th>\n      <th>resolved_by</th>\n      <th>target</th>\n      <th>opened_at_hour</th>\n      <th>sys_updated_at_hour</th>\n    </tr>\n  </thead>\n  <tbody>\n    <tr>\n      <th>0</th>\n      <td>0.0</td>\n      <td>0</td>\n      <td>1257</td>\n      <td>135</td>\n      <td>108</td>\n      <td>32</td>\n      <td>1</td>\n      <td>35</td>\n      <td>32</td>\n      <td>55</td>\n      <td>...</td>\n      <td>2</td>\n      <td>41</td>\n      <td>109</td>\n      <td>1</td>\n      <td>0</td>\n      <td>0</td>\n      <td>45</td>\n      <td>130.0</td>\n      <td>0</td>\n      <td>0</td>\n    </tr>\n    <tr>\n      <th>1</th>\n      <td>0.0</td>\n      <td>0</td>\n      <td>1257</td>\n      <td>86</td>\n      <td>44</td>\n      <td>161</td>\n      <td>1</td>\n      <td>50</td>\n      <td>21</td>\n      <td>91</td>\n      <td>...</td>\n      <td>2</td>\n      <td>56</td>\n      <td>152</td>\n      <td>1</td>\n      <td>0</td>\n      <td>0</td>\n      <td>170</td>\n      <td>149.0</td>\n      <td>0</td>\n      <td>0</td>\n    </tr>\n    <tr>\n      <th>2</th>\n      <td>0.0</td>\n      <td>4</td>\n      <td>3041</td>\n      <td>135</td>\n      <td>103</td>\n      <td>32</td>\n      <td>1</td>\n      <td>85</td>\n      <td>4</td>\n      <td>22</td>\n      <td>...</td>\n      <td>2</td>\n      <td>56</td>\n      <td>146</td>\n      <td>1</td>\n      <td>0</td>\n      <td>0</td>\n      <td>148</td>\n      <td>140.0</td>\n      <td>0</td>\n      <td>0</td>\n    </tr>\n    <tr>\n      <th>3</th>\n      <td>0.0</td>\n      <td>0</td>\n      <td>3099</td>\n      <td>23</td>\n      <td>119</td>\n      <td>62</td>\n      <td>1</td>\n      <td>85</td>\n      <td>40</td>\n      <td>203</td>\n      <td>...</td>\n      <td>2</td>\n      <td>14</td>\n      <td>16</td>\n      <td>1</td>\n      <td>0</td>\n      <td>0</td>\n      <td>12</td>\n      <td>174.0</td>\n      <td>0</td>\n      <td>0</td>\n    </tr>\n    <tr>\n      <th>4</th>\n      <td>1.0</td>\n      <td>5</td>\n      <td>2465</td>\n      <td>23</td>\n      <td>119</td>\n      <td>42</td>\n      <td>1</td>\n      <td>185</td>\n      <td>30</td>\n      <td>52</td>\n      <td>...</td>\n      <td>1</td>\n      <td>12</td>\n      <td>109</td>\n      <td>1</td>\n      <td>0</td>\n      <td>0</td>\n      <td>158</td>\n      <td>129.0</td>\n      <td>0</td>\n      <td>1</td>\n    </tr>\n    <tr>\n      <th>...</th>\n      <td>...</td>\n      <td>...</td>\n      <td>...</td>\n      <td>...</td>\n      <td>...</td>\n      <td>...</td>\n      <td>...</td>\n      <td>...</td>\n      <td>...</td>\n      <td>...</td>\n      <td>...</td>\n      <td>...</td>\n      <td>...</td>\n      <td>...</td>\n      <td>...</td>\n      <td>...</td>\n      <td>...</td>\n      <td>...</td>\n      <td>...</td>\n      <td>...</td>\n      <td>...</td>\n    </tr>\n    <tr>\n      <th>16132</th>\n      <td>0.0</td>\n      <td>0</td>\n      <td>1338</td>\n      <td>20</td>\n      <td>2</td>\n      <td>83</td>\n      <td>1</td>\n      <td>85</td>\n      <td>34</td>\n      <td>55</td>\n      <td>...</td>\n      <td>2</td>\n      <td>41</td>\n      <td>50</td>\n      <td>0</td>\n      <td>0</td>\n      <td>0</td>\n      <td>47</td>\n      <td>NaN</td>\n      <td>1</td>\n      <td>1</td>\n    </tr>\n    <tr>\n      <th>16133</th>\n      <td>0.0</td>\n      <td>0</td>\n      <td>3363</td>\n      <td>100</td>\n      <td>2</td>\n      <td>207</td>\n      <td>1</td>\n      <td>85</td>\n      <td>14</td>\n      <td>59</td>\n      <td>...</td>\n      <td>2</td>\n      <td>56</td>\n      <td>130</td>\n      <td>0</td>\n      <td>0</td>\n      <td>0</td>\n      <td>82</td>\n      <td>NaN</td>\n      <td>1</td>\n      <td>1</td>\n    </tr>\n    <tr>\n      <th>16134</th>\n      <td>0.0</td>\n      <td>0</td>\n      <td>3720</td>\n      <td>127</td>\n      <td>2</td>\n      <td>207</td>\n      <td>1</td>\n      <td>5</td>\n      <td>9</td>\n      <td>59</td>\n      <td>...</td>\n      <td>2</td>\n      <td>56</td>\n      <td>130</td>\n      <td>0</td>\n      <td>0</td>\n      <td>0</td>\n      <td>127</td>\n      <td>NaN</td>\n      <td>1</td>\n      <td>1</td>\n    </tr>\n    <tr>\n      <th>16135</th>\n      <td>0.0</td>\n      <td>1</td>\n      <td>2328</td>\n      <td>20</td>\n      <td>2</td>\n      <td>83</td>\n      <td>1</td>\n      <td>57</td>\n      <td>31</td>\n      <td>62</td>\n      <td>...</td>\n      <td>2</td>\n      <td>23</td>\n      <td>43</td>\n      <td>0</td>\n      <td>0</td>\n      <td>0</td>\n      <td>42</td>\n      <td>NaN</td>\n      <td>1</td>\n      <td>1</td>\n    </tr>\n    <tr>\n      <th>16136</th>\n      <td>0.0</td>\n      <td>0</td>\n      <td>4286</td>\n      <td>131</td>\n      <td>91</td>\n      <td>13</td>\n      <td>1</td>\n      <td>185</td>\n      <td>23</td>\n      <td>143</td>\n      <td>...</td>\n      <td>2</td>\n      <td>40</td>\n      <td>151</td>\n      <td>0</td>\n      <td>0</td>\n      <td>0</td>\n      <td>168</td>\n      <td>NaN</td>\n      <td>0</td>\n      <td>0</td>\n    </tr>\n  </tbody>\n</table>\n<p>16137 rows × 23 columns</p>\n</div>"
     },
     "execution_count": 106,
     "metadata": {},
     "output_type": "execute_result"
    }
   ],
   "source": [
    "le = LabelEncoder()\n",
    "for col in df_all.columns:\n",
    "    if col != 'target' and col!= 'reassignment_count' and col!= 'reassignment_count':\n",
    "        df_all[col] = le.fit_transform(df_all[col])\n",
    "df_all"
   ],
   "metadata": {
    "collapsed": false,
    "pycharm": {
     "name": "#%%\n"
    }
   }
  },
  {
   "cell_type": "code",
   "execution_count": 107,
   "outputs": [
    {
     "data": {
      "text/plain": "<AxesSubplot:>"
     },
     "execution_count": 107,
     "metadata": {},
     "output_type": "execute_result"
    },
    {
     "data": {
      "text/plain": "<Figure size 3600x2160 with 2 Axes>",
      "image/png": "[encoded data removed]"
     },
     "metadata": {},
     "output_type": "display_data"
    }
   ],
   "source": [
    "sns.set(rc = {'figure.figsize': (50, 30)})\n",
    "sns.heatmap(df_all.corr(), vmin=-1, vmax=1, center=0)"
   ],
   "metadata": {
    "collapsed": false,
    "pycharm": {
     "name": "#%%\n"
    }
   }
  },
  {
   "cell_type": "code",
   "execution_count": 108,
   "outputs": [],
   "source": [
    "df_all.drop(['contact_type', 'u_priority_confirmation'], axis=1, inplace=True)"
   ],
   "metadata": {
    "collapsed": false,
    "pycharm": {
     "name": "#%%\n"
    }
   }
  },
  {
   "cell_type": "code",
   "execution_count": 109,
   "outputs": [
    {
     "name": "stderr",
     "output_type": "stream",
     "text": [
      "C:\\Users\\kloko\\AppData\\Local\\Temp\\ipykernel_8040\\1795649467.py:3: SettingWithCopyWarning: \n",
      "A value is trying to be set on a copy of a slice from a DataFrame\n",
      "\n",
      "See the caveats in the documentation: https://pandas.pydata.org/pandas-docs/stable/user_guide/indexing.html#returning-a-view-versus-a-copy\n",
      "  df_prom.drop(['target'], axis=1, inplace=True)\n"
     ]
    }
   ],
   "source": [
    "df_train = df_all[:len_train]\n",
    "df_prom = df_all[len_train:]\n",
    "df_prom.drop(['target'], axis=1, inplace=True)\n",
    "#df_train = df_train.drop(df_train[df_train.target > 1000].index)"
   ],
   "metadata": {
    "collapsed": false,
    "pycharm": {
     "name": "#%%\n"
    }
   }
  },
  {
   "cell_type": "code",
   "execution_count": 21,
   "outputs": [
    {
     "data": {
      "text/plain": "\"\\nfor i in df_train.columns:\\n    fig, ax = plt.subplots(figsize=(20, 5))\\n    ax.scatter(x = df_train[i], y = df_train['target'])\\n    plt.ylabel('target', fontsize=13)\\n    plt.xlabel(i, fontsize=13)\\n    plt.show()\\n\""
     },
     "execution_count": 21,
     "metadata": {},
     "output_type": "execute_result"
    }
   ],
   "source": [
    "'''\n",
    "for i in df_train.columns:\n",
    "    fig, ax = plt.subplots(figsize=(20, 5))\n",
    "    ax.scatter(x = df_train[i], y = df_train['target'])\n",
    "    plt.ylabel('target', fontsize=13)\n",
    "    plt.xlabel(i, fontsize=13)\n",
    "    plt.show()\n",
    "'''"
   ],
   "metadata": {
    "collapsed": false,
    "pycharm": {
     "name": "#%%\n"
    }
   }
  },
  {
   "cell_type": "code",
   "execution_count": 110,
   "outputs": [],
   "source": [
    "df_train_X = df_train.drop(['target'], axis=1)\n",
    "df_train_y = df_train['target']"
   ],
   "metadata": {
    "collapsed": false,
    "pycharm": {
     "name": "#%%\n"
    }
   }
  },
  {
   "cell_type": "code",
   "execution_count": 111,
   "outputs": [],
   "source": [
    "cv = RepeatedKFold(n_repeats=3, n_splits=3, random_state=0)\n",
    "X_train, X_test, y_train, y_test = train_test_split(df_train_X, df_train_y, test_size=0.333, shuffle=True)"
   ],
   "metadata": {
    "collapsed": false,
    "pycharm": {
     "name": "#%%\n"
    }
   }
  },
  {
   "cell_type": "code",
   "execution_count": 17,
   "outputs": [
    {
     "name": "stdout",
     "output_type": "stream",
     "text": [
      "Best score: 0.522749, best params: OrderedDict([('learning_rate', 0.07379130832304526), ('max_depth', 25), ('max_features', 'log2'), ('min_samples_leaf', 1), ('min_samples_split', 200), ('n_estimators', 2077), ('subsample', 0.5612064734420282)])\n"
     ]
    }
   ],
   "source": [
    "model = GradientBoostingRegressor()\n",
    "param_dict = {\n",
    "    'learning_rate': Real(0.001, 0.1),\n",
    "    'n_estimators': Integer(500, 5000),\n",
    "    'max_depth': Integer(1, 25),\n",
    "    'min_samples_split': Integer(2, 200),\n",
    "    'min_samples_leaf': Integer(1, 200),\n",
    "    'subsample': Real(0.01, 1),\n",
    "    'max_features': Categorical(['sqrt', 'log2', None])\n",
    "}\n",
    "BS = BayesSearchCV(model, param_dict, n_iter=100, random_state=0, cv=cv, n_jobs=-1, scoring='r2')\n",
    "BS.fit(df_train_X, df_train_y)\n",
    "print('Best score: %f, best params: %s' % (BS.best_score_, BS.best_params_))"
   ],
   "metadata": {
    "collapsed": false,
    "pycharm": {
     "name": "#%%\n"
    }
   }
  },
  {
   "cell_type": "code",
   "execution_count": 51,
   "outputs": [
    {
     "name": "stdout",
     "output_type": "stream",
     "text": [
      "0.9456625505669551\n"
     ]
    },
    {
     "data": {
      "text/plain": "0.6153737401473671"
     },
     "execution_count": 51,
     "metadata": {},
     "output_type": "execute_result"
    }
   ],
   "source": [
    "model_rgb = GradientBoostingRegressor(learning_rate=0.07, n_estimators=2077, max_depth=6, min_samples_split=200, min_samples_leaf=1, subsample=0.7, max_features='log2')\n",
    "model_rgb.fit(X_train, y_train)\n",
    "print(model_rgb.score(X_train, y_train))\n",
    "model_rgb.score(X_test, y_test)"
   ],
   "metadata": {
    "collapsed": false,
    "pycharm": {
     "name": "#%%\n"
    }
   }
  },
  {
   "cell_type": "code",
   "execution_count": 37,
   "outputs": [
    {
     "name": "stderr",
     "output_type": "stream",
     "text": [
      "C:\\Users\\kloko\\anaconda3\\envs\\case\\lib\\site-packages\\skopt\\optimizer\\optimizer.py:449: UserWarning: The objective has been evaluated at this point before.\n",
      "  warnings.warn(\"The objective has been evaluated \"\n",
      "C:\\Users\\kloko\\anaconda3\\envs\\case\\lib\\site-packages\\skopt\\optimizer\\optimizer.py:449: UserWarning: The objective has been evaluated at this point before.\n",
      "  warnings.warn(\"The objective has been evaluated \"\n",
      "C:\\Users\\kloko\\anaconda3\\envs\\case\\lib\\site-packages\\skopt\\optimizer\\optimizer.py:449: UserWarning: The objective has been evaluated at this point before.\n",
      "  warnings.warn(\"The objective has been evaluated \"\n",
      "C:\\Users\\kloko\\anaconda3\\envs\\case\\lib\\site-packages\\skopt\\optimizer\\optimizer.py:449: UserWarning: The objective has been evaluated at this point before.\n",
      "  warnings.warn(\"The objective has been evaluated \"\n",
      "C:\\Users\\kloko\\anaconda3\\envs\\case\\lib\\site-packages\\skopt\\optimizer\\optimizer.py:449: UserWarning: The objective has been evaluated at this point before.\n",
      "  warnings.warn(\"The objective has been evaluated \"\n",
      "C:\\Users\\kloko\\anaconda3\\envs\\case\\lib\\site-packages\\skopt\\optimizer\\optimizer.py:449: UserWarning: The objective has been evaluated at this point before.\n",
      "  warnings.warn(\"The objective has been evaluated \"\n",
      "C:\\Users\\kloko\\anaconda3\\envs\\case\\lib\\site-packages\\skopt\\optimizer\\optimizer.py:449: UserWarning: The objective has been evaluated at this point before.\n",
      "  warnings.warn(\"The objective has been evaluated \"\n",
      "C:\\Users\\kloko\\anaconda3\\envs\\case\\lib\\site-packages\\skopt\\optimizer\\optimizer.py:449: UserWarning: The objective has been evaluated at this point before.\n",
      "  warnings.warn(\"The objective has been evaluated \"\n",
      "C:\\Users\\kloko\\anaconda3\\envs\\case\\lib\\site-packages\\skopt\\optimizer\\optimizer.py:449: UserWarning: The objective has been evaluated at this point before.\n",
      "  warnings.warn(\"The objective has been evaluated \"\n",
      "C:\\Users\\kloko\\anaconda3\\envs\\case\\lib\\site-packages\\skopt\\optimizer\\optimizer.py:449: UserWarning: The objective has been evaluated at this point before.\n",
      "  warnings.warn(\"The objective has been evaluated \"\n",
      "C:\\Users\\kloko\\anaconda3\\envs\\case\\lib\\site-packages\\skopt\\optimizer\\optimizer.py:449: UserWarning: The objective has been evaluated at this point before.\n",
      "  warnings.warn(\"The objective has been evaluated \"\n",
      "C:\\Users\\kloko\\anaconda3\\envs\\case\\lib\\site-packages\\skopt\\optimizer\\optimizer.py:449: UserWarning: The objective has been evaluated at this point before.\n",
      "  warnings.warn(\"The objective has been evaluated \"\n",
      "C:\\Users\\kloko\\anaconda3\\envs\\case\\lib\\site-packages\\skopt\\optimizer\\optimizer.py:449: UserWarning: The objective has been evaluated at this point before.\n",
      "  warnings.warn(\"The objective has been evaluated \"\n",
      "C:\\Users\\kloko\\anaconda3\\envs\\case\\lib\\site-packages\\skopt\\optimizer\\optimizer.py:449: UserWarning: The objective has been evaluated at this point before.\n",
      "  warnings.warn(\"The objective has been evaluated \"\n",
      "C:\\Users\\kloko\\anaconda3\\envs\\case\\lib\\site-packages\\skopt\\optimizer\\optimizer.py:449: UserWarning: The objective has been evaluated at this point before.\n",
      "  warnings.warn(\"The objective has been evaluated \"\n",
      "C:\\Users\\kloko\\anaconda3\\envs\\case\\lib\\site-packages\\skopt\\optimizer\\optimizer.py:449: UserWarning: The objective has been evaluated at this point before.\n",
      "  warnings.warn(\"The objective has been evaluated \"\n",
      "C:\\Users\\kloko\\anaconda3\\envs\\case\\lib\\site-packages\\skopt\\optimizer\\optimizer.py:449: UserWarning: The objective has been evaluated at this point before.\n",
      "  warnings.warn(\"The objective has been evaluated \"\n",
      "C:\\Users\\kloko\\anaconda3\\envs\\case\\lib\\site-packages\\skopt\\optimizer\\optimizer.py:449: UserWarning: The objective has been evaluated at this point before.\n",
      "  warnings.warn(\"The objective has been evaluated \"\n",
      "C:\\Users\\kloko\\anaconda3\\envs\\case\\lib\\site-packages\\skopt\\optimizer\\optimizer.py:449: UserWarning: The objective has been evaluated at this point before.\n",
      "  warnings.warn(\"The objective has been evaluated \"\n",
      "C:\\Users\\kloko\\anaconda3\\envs\\case\\lib\\site-packages\\skopt\\optimizer\\optimizer.py:449: UserWarning: The objective has been evaluated at this point before.\n",
      "  warnings.warn(\"The objective has been evaluated \"\n",
      "C:\\Users\\kloko\\anaconda3\\envs\\case\\lib\\site-packages\\skopt\\optimizer\\optimizer.py:449: UserWarning: The objective has been evaluated at this point before.\n",
      "  warnings.warn(\"The objective has been evaluated \"\n",
      "C:\\Users\\kloko\\anaconda3\\envs\\case\\lib\\site-packages\\skopt\\optimizer\\optimizer.py:449: UserWarning: The objective has been evaluated at this point before.\n",
      "  warnings.warn(\"The objective has been evaluated \"\n",
      "C:\\Users\\kloko\\anaconda3\\envs\\case\\lib\\site-packages\\skopt\\optimizer\\optimizer.py:449: UserWarning: The objective has been evaluated at this point before.\n",
      "  warnings.warn(\"The objective has been evaluated \"\n",
      "C:\\Users\\kloko\\anaconda3\\envs\\case\\lib\\site-packages\\skopt\\optimizer\\optimizer.py:449: UserWarning: The objective has been evaluated at this point before.\n",
      "  warnings.warn(\"The objective has been evaluated \"\n",
      "C:\\Users\\kloko\\anaconda3\\envs\\case\\lib\\site-packages\\skopt\\optimizer\\optimizer.py:449: UserWarning: The objective has been evaluated at this point before.\n",
      "  warnings.warn(\"The objective has been evaluated \"\n",
      "C:\\Users\\kloko\\anaconda3\\envs\\case\\lib\\site-packages\\skopt\\optimizer\\optimizer.py:449: UserWarning: The objective has been evaluated at this point before.\n",
      "  warnings.warn(\"The objective has been evaluated \"\n",
      "C:\\Users\\kloko\\anaconda3\\envs\\case\\lib\\site-packages\\skopt\\optimizer\\optimizer.py:449: UserWarning: The objective has been evaluated at this point before.\n",
      "  warnings.warn(\"The objective has been evaluated \"\n",
      "C:\\Users\\kloko\\anaconda3\\envs\\case\\lib\\site-packages\\skopt\\optimizer\\optimizer.py:449: UserWarning: The objective has been evaluated at this point before.\n",
      "  warnings.warn(\"The objective has been evaluated \"\n",
      "C:\\Users\\kloko\\anaconda3\\envs\\case\\lib\\site-packages\\skopt\\optimizer\\optimizer.py:449: UserWarning: The objective has been evaluated at this point before.\n",
      "  warnings.warn(\"The objective has been evaluated \"\n",
      "C:\\Users\\kloko\\anaconda3\\envs\\case\\lib\\site-packages\\skopt\\optimizer\\optimizer.py:449: UserWarning: The objective has been evaluated at this point before.\n",
      "  warnings.warn(\"The objective has been evaluated \"\n"
     ]
    },
    {
     "name": "stdout",
     "output_type": "stream",
     "text": [
      "Best score: 0.448782, best params: OrderedDict([('bootstrap', False), ('max_depth', 25), ('max_features', 'log2'), ('max_leaf_nodes', 200), ('min_samples_leaf', 2), ('min_samples_split', 2), ('n_estimators', 4437)])\n"
     ]
    }
   ],
   "source": [
    "model = RandomForestRegressor()\n",
    "param_dict = {\n",
    "    'max_features': Categorical(['sqrt', 'log2', None]),\n",
    "    'n_estimators': Integer(500, 5000),\n",
    "    'max_depth': Integer(1, 25),\n",
    "    'min_samples_split': Integer(2, 200),\n",
    "    'min_samples_leaf': Integer(2, 200),\n",
    "    'max_leaf_nodes': Integer(2, 200),\n",
    "    'bootstrap': Categorical([True, False])\n",
    "\n",
    "}\n",
    "BS = BayesSearchCV(model, param_dict, n_iter=100, random_state=0, cv=cv, n_jobs=-1, scoring='r2')\n",
    "BS.fit(df_train_X, df_train_y)\n",
    "print('Best score: %f, best params: %s' % (BS.best_score_, BS.best_params_))"
   ],
   "metadata": {
    "collapsed": false,
    "pycharm": {
     "name": "#%%\n"
    }
   }
  },
  {
   "cell_type": "code",
   "execution_count": 59,
   "outputs": [
    {
     "name": "stdout",
     "output_type": "stream",
     "text": [
      "0.7900125919338827\n"
     ]
    },
    {
     "data": {
      "text/plain": "0.4876673277079133"
     },
     "execution_count": 59,
     "metadata": {},
     "output_type": "execute_result"
    }
   ],
   "source": [
    "model_rd = RandomForestRegressor(n_estimators=4437, min_samples_split=2, min_samples_leaf=2, max_leaf_nodes=200, max_features='log2', max_depth=25, bootstrap=False)\n",
    "model_rd.fit(X_train, y_train)\n",
    "print(model_rd.score(X_train, y_train))\n",
    "model_rd.score(X_test, y_test)"
   ],
   "metadata": {
    "collapsed": false,
    "pycharm": {
     "name": "#%%\n"
    }
   }
  },
  {
   "cell_type": "code",
   "execution_count": 21,
   "outputs": [
    {
     "name": "stderr",
     "output_type": "stream",
     "text": [
      "C:\\Users\\kloko\\anaconda3\\envs\\case\\lib\\site-packages\\xgboost\\data.py:250: FutureWarning: pandas.Int64Index is deprecated and will be removed from pandas in a future version. Use pandas.Index with the appropriate dtype instead.\n",
      "  elif isinstance(data.columns, (pd.Int64Index, pd.RangeIndex)):\n"
     ]
    },
    {
     "name": "stdout",
     "output_type": "stream",
     "text": [
      "Best score: 0.597095, best params: OrderedDict([('colsample_bytree', 0.1), ('gamma', 27), ('learning_rate', 0.01536994809144241), ('max_depth', 6), ('min_child_weight', 10), ('n_estimators', 5000), ('reg_alpha', 0.8586812931781211), ('reg_lambda', 1.0), ('subsample', 0.9548658404567878)])\n"
     ]
    }
   ],
   "source": [
    "model = XGBRegressor()\n",
    "param_dict = {\n",
    "    'n_estimators': Integer(500, 5000),\n",
    "    'learning_rate': Real(0.001, 0.1),\n",
    "    'max_depth': Integer(1, 25),\n",
    "    'reg_alpha': Real(0, 1),\n",
    "    'reg_lambda': Real(0, 1),\n",
    "    'subsample': Real(0, 1),\n",
    "    'colsample_bytree': Real(0.1, 1),\n",
    "    'gamma': Integer(0, 1000),\n",
    "    'min_child_weight': Integer(10, 1000)\n",
    "}\n",
    "BS = BayesSearchCV(model, param_dict, n_iter=100, random_state=0, cv=cv, n_jobs=-1, scoring='r2')\n",
    "BS.fit(df_train_X, df_train_y)\n",
    "print('Best score: %f, best params: %s' % (BS.best_score_, BS.best_params_))"
   ],
   "metadata": {
    "collapsed": false,
    "pycharm": {
     "name": "#%%\n"
    }
   }
  },
  {
   "cell_type": "code",
   "execution_count": 65,
   "outputs": [
    {
     "name": "stderr",
     "output_type": "stream",
     "text": [
      "C:\\Users\\kloko\\anaconda3\\envs\\case\\lib\\site-packages\\xgboost\\data.py:250: FutureWarning: pandas.Int64Index is deprecated and will be removed from pandas in a future version. Use pandas.Index with the appropriate dtype instead.\n",
      "  elif isinstance(data.columns, (pd.Int64Index, pd.RangeIndex)):\n"
     ]
    },
    {
     "name": "stdout",
     "output_type": "stream",
     "text": [
      "0.8339109407075787\n"
     ]
    },
    {
     "data": {
      "text/plain": "0.6339400856485826"
     },
     "execution_count": 65,
     "metadata": {},
     "output_type": "execute_result"
    }
   ],
   "source": [
    "model_xgb = XGBRegressor(colsample_bytree=0.1, gamma=27, learning_rate=0.015, max_depth=6, min_child_weight=10, n_estimators=5000, reg_alpha=0.858, reg_lambda=1, subsample=0.95)\n",
    "model_xgb.fit(X_train, y_train)\n",
    "print(model_xgb.score(X_train, y_train))\n",
    "model_xgb.score(X_test, y_test)"
   ],
   "metadata": {
    "collapsed": false,
    "pycharm": {
     "name": "#%%\n"
    }
   }
  },
  {
   "cell_type": "code",
   "execution_count": 26,
   "outputs": [
    {
     "name": "stdout",
     "output_type": "stream",
     "text": [
      "[LightGBM] [Warning] feature_fraction is set=0.1, colsample_bytree=0.22964381440764042 will be ignored. Current value: feature_fraction=0.1\n",
      "[LightGBM] [Warning] bagging_fraction is set=0.9837251947848997, subsample=1.0 will be ignored. Current value: bagging_fraction=0.9837251947848997\n",
      "Best score: 0.569428, best params: OrderedDict([('bagging_fraction', 0.9837251947848997), ('colsample_bytree', 0.22964381440764042), ('feature_fraction', 0.1), ('learning_rate', 0.04007592820428714), ('max_depth', 25), ('min_child_weight', 10), ('min_split_gain', 0.001), ('n_estimators', 1042), ('num_leaves', 50), ('reg_alpha', 0.05486924923380654), ('reg_lambda', 0.5751582533550068), ('subsample', 1.0)])\n"
     ]
    }
   ],
   "source": [
    "model = LGBMRegressor()\n",
    "param_dict = {\n",
    "    'n_estimators': Integer(500, 5000),\n",
    "    'learning_rate': Real(0.001, 0.1),\n",
    "    'max_depth': Integer(1, 25),\n",
    "    'reg_alpha': Real(0, 1),\n",
    "    'reg_lambda': Real(0, 1),\n",
    "    'subsample': Real(0, 1),\n",
    "    'colsample_bytree': Real(0.1, 1),\n",
    "    'min_child_weight': Integer(10, 1000),\n",
    "    'num_leaves': Integer(45, 60),\n",
    "    'feature_fraction': Real(0.1, 0.9),\n",
    "    'bagging_fraction': Real(0.8, 1),\n",
    "    'min_split_gain': Real(0.001, 0.1)\n",
    "}\n",
    "BS = BayesSearchCV(model, param_dict, n_iter=100, random_state=0, cv=cv, n_jobs=-1, scoring='r2')\n",
    "BS.fit(df_train_X, df_train_y)\n",
    "print('Best score: %f, best params: %s' % (BS.best_score_, BS.best_params_))"
   ],
   "metadata": {
    "collapsed": false,
    "pycharm": {
     "name": "#%%\n"
    }
   }
  },
  {
   "cell_type": "code",
   "execution_count": 34,
   "outputs": [
    {
     "name": "stdout",
     "output_type": "stream",
     "text": [
      "[LightGBM] [Warning] feature_fraction is set=0.1, colsample_bytree=1.0 will be ignored. Current value: feature_fraction=0.1\n",
      "[LightGBM] [Warning] bagging_fraction is set=0.9837251947848997, subsample=1.0 will be ignored. Current value: bagging_fraction=0.9837251947848997\n",
      "0.8096653564105857\n"
     ]
    },
    {
     "data": {
      "text/plain": "0.6224154814438305"
     },
     "execution_count": 34,
     "metadata": {},
     "output_type": "execute_result"
    }
   ],
   "source": [
    "model_lgb = LGBMRegressor(feature_fraction=0.1, learning_rate=0.04, max_depth=25, min_child_weight=10,\n",
    "                          n_estimators=1042, reg_alpha=0.055, reg_lambda=0.575, bagging_fraction =0.9837251947848997,\n",
    "                          num_leaves=50, min_split_gain=0.001)\n",
    "model_lgb.fit(X_train, y_train)\n",
    "print(model_lgb.score(X_train, y_train))\n",
    "model_lgb.score(X_test, y_test)"
   ],
   "metadata": {
    "collapsed": false,
    "pycharm": {
     "name": "#%%\n"
    }
   }
  },
  {
   "cell_type": "code",
   "execution_count": 66,
   "outputs": [
    {
     "name": "stdout",
     "output_type": "stream",
     "text": [
      "R2 lgb score: 0.57, MSE lgb score: 87554.49\n"
     ]
    }
   ],
   "source": [
    "lgb_r2_score = np.mean(cross_val_score(model_lgb, df_train_X, df_train_y, n_jobs=-1, cv=cv, scoring='r2'))\n",
    "lgb_mse_score = np.mean(cross_val_score(model_lgb, df_train_X, df_train_y, n_jobs=-1, cv=cv, scoring='neg_mean_squared_error'))\n",
    "print('R2 lgb score: %.2f, MSE lgb score: %.2f' % (lgb_r2_score, abs(lgb_mse_score)))"
   ],
   "metadata": {
    "collapsed": false,
    "pycharm": {
     "name": "#%%\n"
    }
   }
  },
  {
   "cell_type": "code",
   "execution_count": 114,
   "outputs": [
    {
     "name": "stdout",
     "output_type": "stream",
     "text": [
      "R2 xgb score: 0.60, MSE xgb score: 82381.84\n"
     ]
    }
   ],
   "source": [
    "xgb_r2_score = np.mean(cross_val_score(model_xgb, df_train_X, df_train_y, n_jobs=-1, cv=cv, scoring='r2'))\n",
    "xgb_mse_score = np.mean(cross_val_score(model_xgb, df_train_X, df_train_y, n_jobs=-1, cv=cv, scoring='neg_mean_squared_error'))\n",
    "print('R2 xgb score: %.2f, MSE xgb score: %.2f' % (xgb_r2_score, abs(xgb_mse_score)))"
   ],
   "metadata": {
    "collapsed": false,
    "pycharm": {
     "name": "#%%\n"
    }
   }
  },
  {
   "cell_type": "code",
   "execution_count": 68,
   "outputs": [
    {
     "name": "stdout",
     "output_type": "stream",
     "text": [
      "R2 rgb score: 0.56, MSE rgb score: 88684.17\n"
     ]
    }
   ],
   "source": [
    "rgb_r2_score = np.mean(cross_val_score(model_rgb, df_train_X, df_train_y, n_jobs=-1, cv=cv, scoring='r2'))\n",
    "rgb_mse_score = np.mean(cross_val_score(model_rgb, df_train_X, df_train_y, n_jobs=-1, cv=cv, scoring='neg_mean_squared_error'))\n",
    "print('R2 rgb score: %.2f, MSE rgb score: %.2f' % (rgb_r2_score, abs(rgb_mse_score)))"
   ],
   "metadata": {
    "collapsed": false,
    "pycharm": {
     "name": "#%%\n"
    }
   }
  },
  {
   "cell_type": "code",
   "execution_count": 69,
   "outputs": [
    {
     "name": "stdout",
     "output_type": "stream",
     "text": [
      "R2 rd score: 0.45, MSE rd score: 112524.82\n"
     ]
    }
   ],
   "source": [
    "rd_r2_score = np.mean(cross_val_score(model_rd, df_train_X, df_train_y, n_jobs=-1, cv=cv, scoring='r2'))\n",
    "rd_mse_score = np.mean(cross_val_score(model_rd, df_train_X, df_train_y, n_jobs=-1, cv=cv, scoring='neg_mean_squared_error'))\n",
    "print('R2 rd score: %.2f, MSE rd score: %.2f' % (rd_r2_score, abs(rd_mse_score)))"
   ],
   "metadata": {
    "collapsed": false,
    "pycharm": {
     "name": "#%%\n"
    }
   }
  },
  {
   "cell_type": "code",
   "execution_count": 115,
   "outputs": [
    {
     "name": "stderr",
     "output_type": "stream",
     "text": [
      "C:\\Users\\kloko\\anaconda3\\envs\\case\\lib\\site-packages\\xgboost\\data.py:250: FutureWarning: pandas.Int64Index is deprecated and will be removed from pandas in a future version. Use pandas.Index with the appropriate dtype instead.\n",
      "  elif isinstance(data.columns, (pd.Int64Index, pd.RangeIndex)):\n"
     ]
    },
    {
     "data": {
      "text/plain": "XGBRegressor(base_score=0.5, booster='gbtree', colsample_bylevel=1,\n             colsample_bynode=1, colsample_bytree=0.1, enable_categorical=False,\n             gamma=27, gpu_id=-1, importance_type=None,\n             interaction_constraints='', learning_rate=0.015, max_delta_step=0,\n             max_depth=6, min_child_weight=10, missing=nan,\n             monotone_constraints='()', n_estimators=5000, n_jobs=12,\n             num_parallel_tree=1, predictor='auto', random_state=0,\n             reg_alpha=0.858, reg_lambda=1, scale_pos_weight=1, subsample=0.95,\n             tree_method='exact', validate_parameters=1, verbosity=None)",
      "text/html": "<style>#sk-container-id-2 {color: black;background-color: white;}#sk-container-id-2 pre{padding: 0;}#sk-container-id-2 div.sk-toggleable {background-color: white;}#sk-container-id-2 label.sk-toggleable__label {cursor: pointer;display: block;width: 100%;margin-bottom: 0;padding: 0.3em;box-sizing: border-box;text-align: center;}#sk-container-id-2 label.sk-toggleable__label-arrow:before {content: \"▸\";float: left;margin-right: 0.25em;color: #696969;}#sk-container-id-2 label.sk-toggleable__label-arrow:hover:before {color: black;}#sk-container-id-2 div.sk-estimator:hover label.sk-toggleable__label-arrow:before {color: black;}#sk-container-id-2 div.sk-toggleable__content {max-height: 0;max-width: 0;overflow: hidden;text-align: left;background-color: #f0f8ff;}#sk-container-id-2 div.sk-toggleable__content pre {margin: 0.2em;color: black;border-radius: 0.25em;background-color: #f0f8ff;}#sk-container-id-2 input.sk-toggleable__control:checked~div.sk-toggleable__content {max-height: 200px;max-width: 100%;overflow: auto;}#sk-container-id-2 input.sk-toggleable__control:checked~label.sk-toggleable__label-arrow:before {content: \"▾\";}#sk-container-id-2 div.sk-estimator input.sk-toggleable__control:checked~label.sk-toggleable__label {background-color: #d4ebff;}#sk-container-id-2 div.sk-label input.sk-toggleable__control:checked~label.sk-toggleable__label {background-color: #d4ebff;}#sk-container-id-2 input.sk-hidden--visually {border: 0;clip: rect(1px 1px 1px 1px);clip: rect(1px, 1px, 1px, 1px);height: 1px;margin: -1px;overflow: hidden;padding: 0;position: absolute;width: 1px;}#sk-container-id-2 div.sk-estimator {font-family: monospace;background-color: #f0f8ff;border: 1px dotted black;border-radius: 0.25em;box-sizing: border-box;margin-bottom: 0.5em;}#sk-container-id-2 div.sk-estimator:hover {background-color: #d4ebff;}#sk-container-id-2 div.sk-parallel-item::after {content: \"\";width: 100%;border-bottom: 1px solid gray;flex-grow: 1;}#sk-container-id-2 div.sk-label:hover label.sk-toggleable__label {background-color: #d4ebff;}#sk-container-id-2 div.sk-serial::before {content: \"\";position: absolute;border-left: 1px solid gray;box-sizing: border-box;top: 0;bottom: 0;left: 50%;z-index: 0;}#sk-container-id-2 div.sk-serial {display: flex;flex-direction: column;align-items: center;background-color: white;padding-right: 0.2em;padding-left: 0.2em;position: relative;}#sk-container-id-2 div.sk-item {position: relative;z-index: 1;}#sk-container-id-2 div.sk-parallel {display: flex;align-items: stretch;justify-content: center;background-color: white;position: relative;}#sk-container-id-2 div.sk-item::before, #sk-container-id-2 div.sk-parallel-item::before {content: \"\";position: absolute;border-left: 1px solid gray;box-sizing: border-box;top: 0;bottom: 0;left: 50%;z-index: -1;}#sk-container-id-2 div.sk-parallel-item {display: flex;flex-direction: column;z-index: 1;position: relative;background-color: white;}#sk-container-id-2 div.sk-parallel-item:first-child::after {align-self: flex-end;width: 50%;}#sk-container-id-2 div.sk-parallel-item:last-child::after {align-self: flex-start;width: 50%;}#sk-container-id-2 div.sk-parallel-item:only-child::after {width: 0;}#sk-container-id-2 div.sk-dashed-wrapped {border: 1px dashed gray;margin: 0 0.4em 0.5em 0.4em;box-sizing: border-box;padding-bottom: 0.4em;background-color: white;}#sk-container-id-2 div.sk-label label {font-family: monospace;font-weight: bold;display: inline-block;line-height: 1.2em;}#sk-container-id-2 div.sk-label-container {text-align: center;}#sk-container-id-2 div.sk-container {/* jupyter's `normalize.less` sets `[hidden] { display: none; }` but bootstrap.min.css set `[hidden] { display: none !important; }` so we also need the `!important` here to be able to override the default hidden behavior on the sphinx rendered scikit-learn.org. See: https://github.com/scikit-learn/scikit-learn/issues/21755 */display: inline-block !important;position: relative;}#sk-container-id-2 div.sk-text-repr-fallback {display: none;}</style><div id=\"sk-container-id-2\" class=\"sk-top-container\"><div class=\"sk-text-repr-fallback\"><pre>XGBRegressor(base_score=0.5, booster=&#x27;gbtree&#x27;, colsample_bylevel=1,\n             colsample_bynode=1, colsample_bytree=0.1, enable_categorical=False,\n             gamma=27, gpu_id=-1, importance_type=None,\n             interaction_constraints=&#x27;&#x27;, learning_rate=0.015, max_delta_step=0,\n             max_depth=6, min_child_weight=10, missing=nan,\n             monotone_constraints=&#x27;()&#x27;, n_estimators=5000, n_jobs=12,\n             num_parallel_tree=1, predictor=&#x27;auto&#x27;, random_state=0,\n             reg_alpha=0.858, reg_lambda=1, scale_pos_weight=1, subsample=0.95,\n             tree_method=&#x27;exact&#x27;, validate_parameters=1, verbosity=None)</pre><b>In a Jupyter environment, please rerun this cell to show the HTML representation or trust the notebook. <br />On GitHub, the HTML representation is unable to render, please try loading this page with nbviewer.org.</b></div><div class=\"sk-container\" hidden><div class=\"sk-item\"><div class=\"sk-estimator sk-toggleable\"><input class=\"sk-toggleable__control sk-hidden--visually\" id=\"sk-estimator-id-2\" type=\"checkbox\" checked><label for=\"sk-estimator-id-2\" class=\"sk-toggleable__label sk-toggleable__label-arrow\">XGBRegressor</label><div class=\"sk-toggleable__content\"><pre>XGBRegressor(base_score=0.5, booster=&#x27;gbtree&#x27;, colsample_bylevel=1,\n             colsample_bynode=1, colsample_bytree=0.1, enable_categorical=False,\n             gamma=27, gpu_id=-1, importance_type=None,\n             interaction_constraints=&#x27;&#x27;, learning_rate=0.015, max_delta_step=0,\n             max_depth=6, min_child_weight=10, missing=nan,\n             monotone_constraints=&#x27;()&#x27;, n_estimators=5000, n_jobs=12,\n             num_parallel_tree=1, predictor=&#x27;auto&#x27;, random_state=0,\n             reg_alpha=0.858, reg_lambda=1, scale_pos_weight=1, subsample=0.95,\n             tree_method=&#x27;exact&#x27;, validate_parameters=1, verbosity=None)</pre></div></div></div></div></div>"
     },
     "execution_count": 115,
     "metadata": {},
     "output_type": "execute_result"
    }
   ],
   "source": [
    "model_prom = XGBRegressor(colsample_bytree=0.1, gamma=27, learning_rate=0.015, max_depth=6, min_child_weight=10, n_estimators=5000, reg_alpha=0.858, reg_lambda=1, subsample=0.95)\n",
    "model_prom.fit(df_train_X, df_train_y)"
   ],
   "metadata": {
    "collapsed": false,
    "pycharm": {
     "name": "#%%\n"
    }
   }
  },
  {
   "cell_type": "code",
   "execution_count": 125,
   "outputs": [],
   "source": [
    "prom_pred = model_prom.predict(df_prom).round()\n",
    "np.savetxt('Prediction.csv', prom_pred, fmt='%f')"
   ],
   "metadata": {
    "collapsed": false,
    "pycharm": {
     "name": "#%%\n"
    }
   }
  }
 ],
 "metadata": {
  "kernelspec": {
   "display_name": "Python 3",
   "language": "python",
   "name": "python3"
  },
  "language_info": {
   "codemirror_mode": {
    "name": "ipython",
    "version": 2
   },
   "file_extension": ".py",
   "mimetype": "text/x-python",
   "name": "python",
   "nbconvert_exporter": "python",
   "pygments_lexer": "ipython2",
   "version": "2.7.6"
  }
 },
 "nbformat": 4,
 "nbformat_minor": 0
}